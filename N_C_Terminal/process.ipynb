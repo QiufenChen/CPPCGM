{
 "cells": [
  {
   "cell_type": "code",
   "execution_count": null,
   "metadata": {},
   "outputs": [],
   "source": [
    "import pandas as pd\n",
    "\n",
    "\n",
    "def get_N_C_chars(seqs, save_name):\n",
    "    Ns = []\n",
    "    Cs = []\n",
    "    for seq in seqs:\n",
    "        if len(seq) > 10:\n",
    "            N = seq[:10]\n",
    "            C = seq[-10:]\n",
    "            Ns.append(N)\n",
    "            Cs.append(Cs)\n",
    "\n",
    "    with open('E:/CPPCGM/N_C_Terminal/N_Terminal/N_' + save_name + \".txt\", \"w\") as file:\n",
    "        for seq in Ns:\n",
    "            file.write(seq + \"\\n\")  \n",
    "    \n",
    "    with open('E:/CPPCGM/N_C_Terminal/C_Terminal/C_' + save_name + \".txt\", \"w\") as file:\n",
    "        for seq in Cs:\n",
    "            file.write(seq + \"\\n\")  \n",
    "\n",
    "\n",
    "            N_Pos_CPPSet1\n",
    "\n",
    "set1_df = pd.read_csv(r'E:\\CPPCGM\\dataset\\CPPSet1.csv')\n",
    "pos_set1_df = set1_df[set1_df['Label'] == 1].tolist()\n",
    "set2_df = pd.read_csv(r'E:\\CPPCGM\\dataset\\CPPSet2.csv')\n",
    "pos_set2_df = set2_df[set1_df['Label'] == 1].tolist()\n",
    "set3_df = pd.read_csv(r'E:\\CPPCGM\\dataset\\CPPSet3.csv')\n",
    "pos_set3_df = set3_df[set1_df['Label'] == 1].tolist()\n",
    "\n",
    "get_N_C_chars(pos_set1_df, 'Pos_CPPSet1')\n",
    "get_N_C_chars(pos_set2_df, 'Pos_CPPSet2')\n",
    "get_N_C_chars(pos_set3_df, 'Pos_CPPSet3')\n",
    "\n"
   ]
  }
 ],
 "metadata": {
  "kernelspec": {
   "display_name": "MyEnv",
   "language": "python",
   "name": "python3"
  },
  "language_info": {
   "name": "python",
   "version": "3.8.19"
  }
 },
 "nbformat": 4,
 "nbformat_minor": 2
}
