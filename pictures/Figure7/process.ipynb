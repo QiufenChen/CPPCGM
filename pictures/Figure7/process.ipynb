{
 "cells": [
  {
   "cell_type": "code",
   "execution_count": null,
   "metadata": {
    "vscode": {
     "languageId": "plaintext"
    }
   },
   "outputs": [],
   "source": [
    "import pandas as pd\n",
    "import matplotlib.pyplot as plt\n",
    "from collections import Counter\n",
    "import matplotlib\n",
    "import numpy as np\n",
    "\n",
    "plt.rcParams['font.family'] = 'Times New Roman'"
   ]
  },
  {
   "cell_type": "code",
   "execution_count": null,
   "metadata": {
    "vscode": {
     "languageId": "plaintext"
    }
   },
   "outputs": [],
   "source": [
    "my_file = 'evaluate_generated_peptides.csv'\n",
    "\n",
    "my_df = pd.read_csv(my_file)\n",
    "my_df = my_df[my_df['CPPClassifier']==1]\n",
    "\n",
    "generated_sequences = my_df['Generated Sequence'].unique().tolist()\n",
    "true_sequences = my_df['True Sequence'].unique().tolist()\n",
    "\n",
    "gene_amino_acids = ''.join(generated_sequences)\n",
    "true_amino_acids = ''.join(true_sequences)\n",
    "\n",
    "gene_amino_acid_counts = Counter(gene_amino_acids)\n",
    "true_amino_acid_counts = Counter(true_amino_acids)\n",
    "\n",
    "gene_amino_acid_df = pd.DataFrame.from_dict(gene_amino_acid_counts, orient='index', columns=['Count'])\n",
    "gene_amino_acid_df['Proportion'] = gene_amino_acid_df['Count'] / gene_amino_acid_df['Count'].sum() * 100\n",
    "\n",
    "true_amino_acid_df = pd.DataFrame.from_dict(true_amino_acid_counts, orient='index', columns=['Count'])\n",
    "true_amino_acid_df['Proportion'] = true_amino_acid_df['Count'] / true_amino_acid_df['Count'].sum() * 100\n",
    "\n",
    "gene_amino_acid_df = gene_amino_acid_df.sort_index()\n",
    "true_amino_acid_df = true_amino_acid_df.sort_index()\n",
    "\n",
    "print(gene_amino_acid_df.index.to_list(), true_amino_acid_df.index.to_list())\n",
    "\n",
    "\n",
    "list1 = gene_amino_acid_df['Proportion'].to_list()  \n",
    "list2 = true_amino_acid_df['Proportion'].to_list()  \n",
    "length = len(list1)\n",
    "x = np.arange(length)  \n",
    "listDate = gene_amino_acid_df.index.to_list()\n",
    "\n",
    "plt.figure(figsize=(12,6))\n",
    "total_width, n = 0.8, 2   \n",
    "width = total_width / n  \n",
    "x1 = x - width / 2   \n",
    "x2 = x1 + width  \n",
    "\n",
    "plt.bar(x1, list1, width=width, label=\"66 generated Sequences\", color='#1F77B4')\n",
    "plt.bar(x2, list2, width=width, label=\"66 true Sequences\", color='#FF7F0E')\n",
    "plt.xlabel(\"Amino Acids\", fontsize=17, weight='bold')   \n",
    "plt.ylabel(\"Percentage\", fontsize=17, weight='bold')   \n",
    "plt.xticks(x, listDate, fontsize=15)  \n",
    "plt.yticks(fontsize=15)\n",
    "plt.legend(fontsize=15)   \n",
    "plt.tight_layout()\n",
    "\n",
    "plt.savefig('../Figure7_Composition.pdf', bbox_inches='tight',format='pdf',dpi=600)\n",
    "plt.show()\n",
    "\n",
    "# plt.figure(figsize=(10, 6))\n",
    "# gene_amino_acid_df['Proportion'].plot(kind='bar')\n",
    "\n",
    "\n",
    "# plt.title('Proportion of Amino Acids in Generated Sequences (69)', fontsize=15, weight='bold')\n",
    "# plt.xlabel('Amino Acid', fontsize=15, weight='bold')\n",
    "# plt.ylabel('Percentage', fontsize=15, weight='bold')\n",
    "# plt.xticks(rotation=0, fontsize=12)\n",
    "# plt.yticks(fontsize=12)\n",
    "# # plt.grid(axis='y', linestyle='--', alpha=0.7)\n",
    "# plt.tight_layout()\n",
    "# plt.show()"
   ]
  }
 ],
 "metadata": {
  "language_info": {
   "name": "python"
  }
 },
 "nbformat": 4,
 "nbformat_minor": 2
}
