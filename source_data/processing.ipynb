{
 "cells": [
  {
   "cell_type": "code",
   "execution_count": 2,
   "metadata": {},
   "outputs": [],
   "source": [
    "import pandas as pd\n",
    "import os"
   ]
  },
  {
   "cell_type": "code",
   "execution_count": 4,
   "metadata": {},
   "outputs": [
    {
     "name": "stdout",
     "output_type": "stream",
     "text": [
      "Total number of IDs: 1564\n",
      "Total number of sequences: 1564\n",
      "Length of the longest sequence: 61\n"
     ]
    }
   ],
   "source": [
    "## Download the dataset from https://webs.iiitd.edu.in/raghava/cppsite/natural_pep.fa\n",
    "with open('natural_pep.fa.txt', 'r', encoding='utf-8') as info:\n",
    "    lines = info.readlines()\n",
    "\n",
    "    ids = []\n",
    "    seqs = []\n",
    "    lens = []\n",
    "    for line in lines:\n",
    "        if line.startswith(\">\"):\n",
    "            id = line.split('>')[1].strip()\n",
    "            ids.append(id)\n",
    "        else:\n",
    "            seq = line.strip()\n",
    "            seqs.append(seq)\n",
    "            lens.append(len(seq))\n",
    "\n",
    "\n",
    "print(f\"Total number of IDs: {len(ids)}\")\n",
    "print(f\"Total number of sequences: {len(seqs)}\")\n",
    "print(f\"Length of the longest sequence: {max(lens)}\")\n"
   ]
  },
  {
   "cell_type": "code",
   "execution_count": 5,
   "metadata": {},
   "outputs": [
    {
     "name": "stdout",
     "output_type": "stream",
     "text": [
      "Total number of IDs: 291\n",
      "Total number of sequences: 291\n"
     ]
    }
   ],
   "source": [
    "## Download the dataset from https://webs.iiitd.edu.in/raghava/cppsite/non-nat_pep.fa\n",
    "with open('non-nat_pep.fa.txt', 'r', encoding='utf-8') as info:\n",
    "    lines = info.readlines()\n",
    "\n",
    "    ids = []\n",
    "    seqs = []\n",
    "    for line in lines:\n",
    "        if line.startswith(\">\"):\n",
    "            id = line.split('>')[1].strip()\n",
    "            ids.append(id)\n",
    "        else:\n",
    "            seq = line.strip()\n",
    "            seqs.append(seq)\n",
    "\n",
    "print(f\"Total number of IDs: {len(ids)}\")\n",
    "print(f\"Total number of sequences: {len(seqs)}\")"
   ]
  },
  {
   "cell_type": "code",
   "execution_count": 6,
   "metadata": {},
   "outputs": [
    {
     "data": {
      "text/plain": [
       "1855"
      ]
     },
     "execution_count": 6,
     "metadata": {},
     "output_type": "execute_result"
    }
   ],
   "source": [
    "1564  + 291"
   ]
  }
 ],
 "metadata": {
  "kernelspec": {
   "display_name": "Python 3",
   "language": "python",
   "name": "python3"
  },
  "language_info": {
   "codemirror_mode": {
    "name": "ipython",
    "version": 3
   },
   "file_extension": ".py",
   "mimetype": "text/x-python",
   "name": "python",
   "nbconvert_exporter": "python",
   "pygments_lexer": "ipython3",
   "version": "3.8.19"
  }
 },
 "nbformat": 4,
 "nbformat_minor": 2
}
