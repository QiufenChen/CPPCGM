{
 "cells": [
  {
   "cell_type": "code",
   "execution_count": 12,
   "metadata": {},
   "outputs": [],
   "source": [
    "from Bio import SeqIO\n",
    "import pandas as pd\n",
    "import re\n",
    "import os\n",
    "import random"
   ]
  },
  {
   "cell_type": "code",
   "execution_count": 13,
   "metadata": {},
   "outputs": [],
   "source": [
    "### Step1: Obtain positive CPPs\n",
    "with open('../source_data/positive-cpps.txt' , 'r') as info:\n",
    "    lines = info.readlines()\n",
    "    positive_cpps = [line.strip() for line in lines]"
   ]
  },
  {
   "cell_type": "code",
   "execution_count": 37,
   "metadata": {},
   "outputs": [
    {
     "name": "stdout",
     "output_type": "stream",
     "text": [
      "Directory created: c:\\Users\\KerryChen\\Desktop\\CPP_Manuscript_Revise\\uniprot_sprot.fasta\n"
     ]
    }
   ],
   "source": [
    "### Step2: Get non-CPPs candidates\n",
    "\n",
    "fasta_file = 'uniprot_sprot.fasta'\n",
    "save_dir = os.getcwd()\n",
    "\n",
    "os.makedirs(save_dir, exist_ok=True)\n",
    "print(f\"Directory created: {save_dir}\")\n",
    "\n",
    "pattern1 = r'\\|(.*?)\\|'     \n",
    "pattern2 = r'GN=([^ ]+)'    \n",
    "\n",
    "results = []\n",
    "for record in SeqIO.parse(fasta_file, \"fasta\"):\n",
    "    sequence = str(record.seq)\n",
    "    sequence_length = len(sequence)\n",
    "\n",
    "    header_info = record.description\n",
    "    EntryName = header_info.split()[0].split('|')[2]\n",
    "    Name = EntryName.split('_')[0]\n",
    "    \n",
    "    UniqueId = re.findall(pattern1, header_info)[0]\n",
    "    gene_name = re.search(pattern2, header_info)\n",
    "    \n",
    "    if gene_name:\n",
    "        GeneName = gene_name.group(1)\n",
    "    else:\n",
    "        GeneName = ''\n",
    "\n",
    "    if (sequence_length < 62) and all(char not in sequence for char in ['X', 'B', '-', 'Z', 'O', 'U']) and (sequence not in positive_cpps):\n",
    "        results.append([UniqueId, EntryName, GeneName, sequence, sequence_length])\n",
    "\n",
    "    # with open(current_dir + UniqueId + \".fasta\", \"w\") as output_handle:\n",
    "    #     output_handle.write(f\">{UniqueId}\\n\")\n",
    "    #     output_handle.write(f\"{sequence}\\n\")\n",
    "\n",
    "col_names = ['UniprotID', 'EntryName', 'GeneName','Sequence', 'Length']\n",
    "prot_df = pd.DataFrame(results, columns=col_names)     \n",
    "prot_df.to_csv('all_negative_CPPs.csv', index=False)"
   ]
  },
  {
   "cell_type": "code",
   "execution_count": 41,
   "metadata": {},
   "outputs": [],
   "source": [
    "### Step3: Obtain negative CPPs\n",
    "random.seed(42)\n",
    "num_positive_cpps = len(positive_cpps)\n",
    "\n",
    "random_negative_cpps = random.sample(prot_df['Sequence'].unique().tolist(), num_positive_cpps)\n",
    "\n",
    "positive_df = pd.DataFrame(positive_cpps, columns=[\"Sequence\"])\n",
    "positive_df[\"Label\"] = 1 \n",
    "\n",
    "\n",
    "negative_df = pd.DataFrame(random_negative_cpps, columns=[\"Sequence\"])\n",
    "negative_df[\"Label\"] = 0  \n",
    "\n",
    "combined_df = pd.concat([positive_df, negative_df], ignore_index=True)\n",
    "combined_df.to_csv('CPPSet1.csv', index=False)"
   ]
  }
 ],
 "metadata": {
  "kernelspec": {
   "display_name": "MyEnv",
   "language": "python",
   "name": "python3"
  },
  "language_info": {
   "codemirror_mode": {
    "name": "ipython",
    "version": 3
   },
   "file_extension": ".py",
   "mimetype": "text/x-python",
   "name": "python",
   "nbconvert_exporter": "python",
   "pygments_lexer": "ipython3",
   "version": "3.8.19"
  }
 },
 "nbformat": 4,
 "nbformat_minor": 2
}
