{
 "cells": [
  {
   "cell_type": "code",
   "execution_count": 1,
   "metadata": {},
   "outputs": [],
   "source": [
    "import torch\n",
    "from transformers import AutoTokenizer, Trainer, TrainingArguments, AutoModelForSequenceClassification\n",
    "from torch.utils.data import Dataset\n",
    "import os\n",
    "import pandas as pd\n",
    "import requests\n",
    "from tqdm.auto import tqdm\n",
    "import numpy as np\n",
    "from sklearn.metrics import accuracy_score, precision_recall_fscore_support, matthews_corrcoef\n",
    "from imblearn.metrics import specificity_score\n",
    "import pandas as pd\n",
    "from sklearn.model_selection import train_test_split\n",
    "import re\n",
    "import warnings\n",
    "import os\n",
    "os.environ[\"WANDB_MODE\"] = \"disabled\"\n",
    "\n",
    "warnings.filterwarnings(\"ignore\")"
   ]
  },
  {
   "cell_type": "code",
   "execution_count": 2,
   "metadata": {},
   "outputs": [
    {
     "name": "stdout",
     "output_type": "stream",
     "text": [
      "Done!\n"
     ]
    }
   ],
   "source": [
    "df = pd.read_csv('../dataset/CPPSet1.csv')\n",
    "train_df, test_df = train_test_split(df, test_size=0.2, random_state=1024, stratify=df['Label'])\n",
    "\n",
    "train_df.to_csv('../dataset/CPPSet1-train.csv', index=False)\n",
    "test_df.to_csv('../dataset/CPPSet1-test.csv', index=False)\n",
    "\n",
    "print(\"Done!\")\n"
   ]
  },
  {
   "cell_type": "code",
   "execution_count": 3,
   "metadata": {},
   "outputs": [],
   "source": [
    "model_name = '../Rostlab/prot_bert_bfd'"
   ]
  },
  {
   "cell_type": "code",
   "execution_count": 4,
   "metadata": {},
   "outputs": [],
   "source": [
    "class DeepLocDataset(Dataset):\n",
    "    def __init__(self, split=\"train\", tokenizer_name=model_name, max_length=80):\n",
    "        self.datasetFolderPath = '../dataset/'\n",
    "        self.trainFilePath = os.path.join(self.datasetFolderPath, 'CPPSet1-train.csv')\n",
    "        self.testFilePath = os.path.join(self.datasetFolderPath, 'CPPSet1-test.csv')\n",
    "        self.tokenizer = AutoTokenizer.from_pretrained(tokenizer_name, do_lower_case=False)\n",
    "        if split==\"train\":\n",
    "            self.seqs, self.labels = self.load_dataset(self.trainFilePath)\n",
    "        else:\n",
    "            self.seqs, self.labels = self.load_dataset(self.testFilePath)\n",
    "        self.max_length = max_length\n",
    "        \n",
    "    def load_dataset(self,path):\n",
    "        df = pd.read_csv(path,names=['input','labels'],skiprows=1)\n",
    "        seq = list(df['input'])\n",
    "        seq = [' '.join(i) for i in seq]\n",
    "        label = list(df['labels'])\n",
    "        assert len(seq) == len(label)\n",
    "        return seq, label\n",
    "\n",
    "    def __len__(self):\n",
    "        return len(self.labels)\n",
    "\n",
    "    def __getitem__(self, idx):\n",
    "        if torch.is_tensor(idx):\n",
    "            idx = idx.tolist()\n",
    "        seq = \" \".join(\"\".join(self.seqs[idx].split()))\n",
    "        seq = re.sub(r\"[UZOB]\", \"X\", seq)\n",
    "        seq_ids = self.tokenizer(seq, truncation=True, padding='max_length', max_length=self.max_length)\n",
    "        sample = {key: torch.tensor(val) for key, val in seq_ids.items()}\n",
    "        sample['labels'] = torch.tensor(self.labels[idx])\n",
    "        return sample"
   ]
  },
  {
   "cell_type": "code",
   "execution_count": 5,
   "metadata": {},
   "outputs": [],
   "source": [
    "train_dataset = DeepLocDataset(split=\"train\", tokenizer_name=model_name, max_length=80)\n",
    "test_dataset = DeepLocDataset(split=\"test\", tokenizer_name=model_name, max_length=80)"
   ]
  },
  {
   "cell_type": "code",
   "execution_count": 6,
   "metadata": {},
   "outputs": [],
   "source": [
    "def compute_metrics(pred):\n",
    "    labels = pred.label_ids\n",
    "    preds = pred.predictions.argmax(-1)\n",
    "    precision, recall, f1, _ = precision_recall_fscore_support(labels, preds, average='binary')\n",
    "    acc = accuracy_score(labels, preds)\n",
    "    spec = specificity_score(labels, preds)\n",
    "    return {\n",
    "        'accuracy': acc,\n",
    "        'precision': precision,\n",
    "        'recall': recall,\n",
    "        'specificity': spec,\n",
    "        'f1': f1,\n",
    "        'mcc' : matthews_corrcoef(labels, preds)\n",
    "    }"
   ]
  },
  {
   "cell_type": "code",
   "execution_count": 7,
   "metadata": {},
   "outputs": [],
   "source": [
    "def model_init():\n",
    "    model = AutoModelForSequenceClassification.from_pretrained(model_name)#.cuda()\n",
    "    #for param in model.parameters(): param.data = param.data.contiguous()\n",
    "    return model"
   ]
  },
  {
   "cell_type": "code",
   "execution_count": 8,
   "metadata": {},
   "outputs": [
    {
     "name": "stderr",
     "output_type": "stream",
     "text": [
      "Some weights of BertForSequenceClassification were not initialized from the model checkpoint at ../Rostlab/prot_bert_bfd and are newly initialized: ['classifier.bias', 'classifier.weight']\n",
      "You should probably TRAIN this model on a down-stream task to be able to use it for predictions and inference.\n",
      "Some weights of BertForSequenceClassification were not initialized from the model checkpoint at ../Rostlab/prot_bert_bfd and are newly initialized: ['classifier.bias', 'classifier.weight']\n",
      "You should probably TRAIN this model on a down-stream task to be able to use it for predictions and inference.\n"
     ]
    },
    {
     "data": {
      "text/html": [
       "\n",
       "    <div>\n",
       "      \n",
       "      <progress value='60' max='60' style='width:300px; height:20px; vertical-align: middle;'></progress>\n",
       "      [60/60 11:17, Epoch 15/20]\n",
       "    </div>\n",
       "    <table border=\"1\" class=\"dataframe\">\n",
       "  <thead>\n",
       " <tr style=\"text-align: left;\">\n",
       "      <th>Epoch</th>\n",
       "      <th>Training Loss</th>\n",
       "      <th>Validation Loss</th>\n",
       "      <th>Accuracy</th>\n",
       "      <th>Precision</th>\n",
       "      <th>Recall</th>\n",
       "      <th>Specificity</th>\n",
       "      <th>F1</th>\n",
       "      <th>Mcc</th>\n",
       "    </tr>\n",
       "  </thead>\n",
       "  <tbody>\n",
       "    <tr>\n",
       "      <td>0</td>\n",
       "      <td>0.693200</td>\n",
       "      <td>0.689535</td>\n",
       "      <td>0.613043</td>\n",
       "      <td>0.563725</td>\n",
       "      <td>1.000000</td>\n",
       "      <td>0.226087</td>\n",
       "      <td>0.721003</td>\n",
       "      <td>0.357003</td>\n",
       "    </tr>\n",
       "    <tr>\n",
       "      <td>1</td>\n",
       "      <td>0.670200</td>\n",
       "      <td>0.634541</td>\n",
       "      <td>0.808696</td>\n",
       "      <td>0.736667</td>\n",
       "      <td>0.960870</td>\n",
       "      <td>0.656522</td>\n",
       "      <td>0.833962</td>\n",
       "      <td>0.648138</td>\n",
       "    </tr>\n",
       "    <tr>\n",
       "      <td>2</td>\n",
       "      <td>0.539600</td>\n",
       "      <td>0.415334</td>\n",
       "      <td>0.906522</td>\n",
       "      <td>0.894515</td>\n",
       "      <td>0.921739</td>\n",
       "      <td>0.891304</td>\n",
       "      <td>0.907923</td>\n",
       "      <td>0.813420</td>\n",
       "    </tr>\n",
       "    <tr>\n",
       "      <td>3</td>\n",
       "      <td>0.375600</td>\n",
       "      <td>0.335995</td>\n",
       "      <td>0.897826</td>\n",
       "      <td>0.886076</td>\n",
       "      <td>0.913043</td>\n",
       "      <td>0.882609</td>\n",
       "      <td>0.899358</td>\n",
       "      <td>0.796021</td>\n",
       "    </tr>\n",
       "    <tr>\n",
       "      <td>4</td>\n",
       "      <td>0.322500</td>\n",
       "      <td>0.473542</td>\n",
       "      <td>0.832609</td>\n",
       "      <td>0.937143</td>\n",
       "      <td>0.713043</td>\n",
       "      <td>0.952174</td>\n",
       "      <td>0.809877</td>\n",
       "      <td>0.685094</td>\n",
       "    </tr>\n",
       "    <tr>\n",
       "      <td>6</td>\n",
       "      <td>0.330900</td>\n",
       "      <td>0.348285</td>\n",
       "      <td>0.889130</td>\n",
       "      <td>0.901345</td>\n",
       "      <td>0.873913</td>\n",
       "      <td>0.904348</td>\n",
       "      <td>0.887417</td>\n",
       "      <td>0.778622</td>\n",
       "    </tr>\n",
       "    <tr>\n",
       "      <td>7</td>\n",
       "      <td>0.268500</td>\n",
       "      <td>0.311047</td>\n",
       "      <td>0.904348</td>\n",
       "      <td>0.926606</td>\n",
       "      <td>0.878261</td>\n",
       "      <td>0.930435</td>\n",
       "      <td>0.901786</td>\n",
       "      <td>0.809799</td>\n",
       "    </tr>\n",
       "    <tr>\n",
       "      <td>8</td>\n",
       "      <td>0.292100</td>\n",
       "      <td>0.331826</td>\n",
       "      <td>0.897826</td>\n",
       "      <td>0.921659</td>\n",
       "      <td>0.869565</td>\n",
       "      <td>0.926087</td>\n",
       "      <td>0.894855</td>\n",
       "      <td>0.796926</td>\n",
       "    </tr>\n",
       "    <tr>\n",
       "      <td>9</td>\n",
       "      <td>0.236400</td>\n",
       "      <td>0.294353</td>\n",
       "      <td>0.913043</td>\n",
       "      <td>0.920354</td>\n",
       "      <td>0.904348</td>\n",
       "      <td>0.921739</td>\n",
       "      <td>0.912281</td>\n",
       "      <td>0.826212</td>\n",
       "    </tr>\n",
       "    <tr>\n",
       "      <td>10</td>\n",
       "      <td>0.280600</td>\n",
       "      <td>0.330522</td>\n",
       "      <td>0.893478</td>\n",
       "      <td>0.878661</td>\n",
       "      <td>0.913043</td>\n",
       "      <td>0.873913</td>\n",
       "      <td>0.895522</td>\n",
       "      <td>0.787560</td>\n",
       "    </tr>\n",
       "    <tr>\n",
       "      <td>12</td>\n",
       "      <td>0.233900</td>\n",
       "      <td>0.270507</td>\n",
       "      <td>0.915217</td>\n",
       "      <td>0.932127</td>\n",
       "      <td>0.895652</td>\n",
       "      <td>0.934783</td>\n",
       "      <td>0.913525</td>\n",
       "      <td>0.831071</td>\n",
       "    </tr>\n",
       "    <tr>\n",
       "      <td>13</td>\n",
       "      <td>0.202700</td>\n",
       "      <td>0.273525</td>\n",
       "      <td>0.913043</td>\n",
       "      <td>0.927928</td>\n",
       "      <td>0.895652</td>\n",
       "      <td>0.930435</td>\n",
       "      <td>0.911504</td>\n",
       "      <td>0.826587</td>\n",
       "    </tr>\n",
       "    <tr>\n",
       "      <td>14</td>\n",
       "      <td>0.182600</td>\n",
       "      <td>0.268807</td>\n",
       "      <td>0.915217</td>\n",
       "      <td>0.924444</td>\n",
       "      <td>0.904348</td>\n",
       "      <td>0.926087</td>\n",
       "      <td>0.914286</td>\n",
       "      <td>0.830631</td>\n",
       "    </tr>\n",
       "    <tr>\n",
       "      <td>15</td>\n",
       "      <td>0.186400</td>\n",
       "      <td>0.268172</td>\n",
       "      <td>0.917391</td>\n",
       "      <td>0.928571</td>\n",
       "      <td>0.904348</td>\n",
       "      <td>0.930435</td>\n",
       "      <td>0.916300</td>\n",
       "      <td>0.835067</td>\n",
       "    </tr>\n",
       "  </tbody>\n",
       "</table><p>"
      ],
      "text/plain": [
       "<IPython.core.display.HTML object>"
      ]
     },
     "metadata": {},
     "output_type": "display_data"
    },
    {
     "data": {
      "text/plain": [
       "TrainOutput(global_step=60, training_loss=0.34816635052363076, metrics={'train_runtime': 688.2649, 'train_samples_per_second': 53.468, 'train_steps_per_second': 0.087, 'total_flos': 5238472338432000.0, 'train_loss': 0.34816635052363076, 'epoch': 15.652173913043478})"
      ]
     },
     "execution_count": 8,
     "metadata": {},
     "output_type": "execute_result"
    }
   ],
   "source": [
    "training_args = TrainingArguments(\n",
    "    learning_rate=1e-4,\n",
    "    output_dir='../results',\n",
    "    num_train_epochs=20,\n",
    "    per_device_train_batch_size=8,\n",
    "    per_device_eval_batch_size=8,\n",
    "    warmup_steps=10,\n",
    "    weight_decay=0.01,\n",
    "    logging_dir='../logs',\n",
    "    logging_steps=2,\n",
    "    do_train=True,\n",
    "    do_eval=True,\n",
    "    evaluation_strategy=\"epoch\",\n",
    "    gradient_accumulation_steps=30,\n",
    "    fp16=True,\n",
    "    fp16_opt_level=\"02\",\n",
    "    run_name=\"ProBert-BFD-MS\",\n",
    "    seed=3407)\n",
    "\n",
    "trainer = Trainer(\n",
    "    model_init=model_init,\n",
    "    args=training_args,\n",
    "    train_dataset=train_dataset,\n",
    "    eval_dataset=test_dataset,\n",
    "    compute_metrics = compute_metrics)\n",
    "\n",
    "trainer.train()"
   ]
  },
  {
   "cell_type": "code",
   "execution_count": 9,
   "metadata": {},
   "outputs": [
    {
     "data": {
      "text/html": [],
      "text/plain": [
       "<IPython.core.display.HTML object>"
      ]
     },
     "metadata": {},
     "output_type": "display_data"
    },
    {
     "data": {
      "text/plain": [
       "{'eval_loss': 0.2681718170642853,\n",
       " 'eval_accuracy': 0.9173913043478261,\n",
       " 'eval_precision': 0.9285714285714286,\n",
       " 'eval_recall': 0.9043478260869565,\n",
       " 'eval_specificity': 0.9304347826086956,\n",
       " 'eval_f1': 0.9162995594713658,\n",
       " 'eval_mcc': 0.8350668007670652,\n",
       " 'eval_runtime': 4.6293,\n",
       " 'eval_samples_per_second': 99.367,\n",
       " 'eval_steps_per_second': 6.264,\n",
       " 'epoch': 15.652173913043478}"
      ]
     },
     "execution_count": 9,
     "metadata": {},
     "output_type": "execute_result"
    }
   ],
   "source": [
    "trainer.evaluate(test_dataset)"
   ]
  },
  {
   "cell_type": "code",
   "execution_count": 10,
   "metadata": {},
   "outputs": [],
   "source": [
    "trainer.save_model('../model/ProtBert_BFD_CPPSet1.pt')"
   ]
  },
  {
   "cell_type": "code",
   "execution_count": 11,
   "metadata": {},
   "outputs": [
    {
     "data": {
      "text/html": [],
      "text/plain": [
       "<IPython.core.display.HTML object>"
      ]
     },
     "metadata": {},
     "output_type": "display_data"
    }
   ],
   "source": [
    "result = trainer.predict(test_dataset).predictions\n",
    "golden = trainer.predict(test_dataset).label_ids\n",
    "result = torch.argmax(torch.tensor(result), -1)"
   ]
  },
  {
   "cell_type": "code",
   "execution_count": 12,
   "metadata": {},
   "outputs": [],
   "source": [
    "torch.save(result, '../model/CPPSet1_result2.pt')"
   ]
  },
  {
   "cell_type": "code",
   "execution_count": null,
   "metadata": {},
   "outputs": [],
   "source": []
  }
 ],
 "metadata": {
  "kernelspec": {
   "display_name": "Python 3 (ipykernel)",
   "language": "python",
   "name": "python3"
  },
  "language_info": {
   "codemirror_mode": {
    "name": "ipython",
    "version": 3
   },
   "file_extension": ".py",
   "mimetype": "text/x-python",
   "name": "python",
   "nbconvert_exporter": "python",
   "pygments_lexer": "ipython3",
   "version": "3.8.19"
  }
 },
 "nbformat": 4,
 "nbformat_minor": 4
}
