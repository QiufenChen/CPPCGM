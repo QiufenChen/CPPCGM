{
 "cells": [
  {
   "cell_type": "code",
   "execution_count": 1,
   "metadata": {},
   "outputs": [],
   "source": [
    "import torch\n",
    "from transformers import AutoTokenizer, Trainer, TrainingArguments, AutoModelForSequenceClassification\n",
    "from torch.utils.data import Dataset\n",
    "import os\n",
    "import pandas as pd\n",
    "import requests\n",
    "from tqdm.auto import tqdm\n",
    "import numpy as np\n",
    "from sklearn.metrics import accuracy_score, precision_recall_fscore_support, matthews_corrcoef\n",
    "import re\n",
    "import warnings\n",
    "\n",
    "warnings.filterwarnings(\"ignore\")"
   ]
  },
  {
   "cell_type": "code",
   "execution_count": 2,
   "metadata": {},
   "outputs": [],
   "source": [
    "model_name = './prot_electra_discriminator_bfd'"
   ]
  },
  {
   "cell_type": "code",
   "execution_count": 3,
   "metadata": {},
   "outputs": [],
   "source": [
    "class DeepLocDataset(Dataset):\n",
    "    def __init__(self, split=\"train\", tokenizer_name='Rostlab/prot_bert', max_length=1024):\n",
    "        self.datasetFolderPath = 'dataset/'\n",
    "        self.trainFilePath = os.path.join(self.datasetFolderPath, 'MLCPP-train.csv')\n",
    "        self.testFilePath = os.path.join(self.datasetFolderPath, 'MLCPP-test.csv')\n",
    "        self.tokenizer = AutoTokenizer.from_pretrained(tokenizer_name, do_lower_case=False)\n",
    "        if split==\"train\":\n",
    "            self.seqs, self.labels = self.load_dataset(self.trainFilePath)\n",
    "        else:\n",
    "            self.seqs, self.labels = self.load_dataset(self.testFilePath)\n",
    "        self.max_length = max_length\n",
    "        \n",
    "    def load_dataset(self,path):\n",
    "        df = pd.read_csv(path,names=['input','labels'],skiprows=1)\n",
    "        seq = list(df['input'])\n",
    "        seq = [' '.join(i) for i in seq]\n",
    "        label = list(df['labels'])\n",
    "        assert len(seq) == len(label)\n",
    "        return seq, label\n",
    "\n",
    "    def __len__(self):\n",
    "        return len(self.labels)\n",
    "\n",
    "    def __getitem__(self, idx):\n",
    "        if torch.is_tensor(idx):\n",
    "            idx = idx.tolist()\n",
    "        seq = \" \".join(\"\".join(self.seqs[idx].split()))\n",
    "        seq = re.sub(r\"[UZOB]\", \"X\", seq)\n",
    "        seq_ids = self.tokenizer(seq, truncation=True, padding='max_length', max_length=self.max_length)\n",
    "        sample = {key: torch.tensor(val) for key, val in seq_ids.items()}\n",
    "        sample['labels'] = torch.tensor(self.labels[idx])\n",
    "        return sample"
   ]
  },
  {
   "cell_type": "code",
   "execution_count": 4,
   "metadata": {},
   "outputs": [],
   "source": [
    "train_dataset = DeepLocDataset(split=\"train\", tokenizer_name=model_name, max_length=80)\n",
    "test_dataset = DeepLocDataset(split=\"test\", tokenizer_name=model_name, max_length=80)"
   ]
  },
  {
   "cell_type": "code",
   "execution_count": 5,
   "metadata": {},
   "outputs": [],
   "source": [
    "def compute_metrics(pred):\n",
    "    labels = pred.label_ids\n",
    "    preds = pred.predictions.argmax(-1)\n",
    "    precision, recall, f1, _ = precision_recall_fscore_support(labels, preds, average='binary')\n",
    "    acc = accuracy_score(labels, preds)\n",
    "    return {\n",
    "        'accuracy': acc,\n",
    "        'f1': f1,\n",
    "        'precision': precision,\n",
    "        'recall': recall,\n",
    "        'mcc' : matthews_corrcoef(labels, preds)\n",
    "    }"
   ]
  },
  {
   "cell_type": "code",
   "execution_count": 6,
   "metadata": {},
   "outputs": [],
   "source": [
    "def model_init():\n",
    "      return AutoModelForSequenceClassification.from_pretrained(model_name)"
   ]
  },
  {
   "cell_type": "code",
   "execution_count": 7,
   "metadata": {},
   "outputs": [
    {
     "name": "stderr",
     "output_type": "stream",
     "text": [
      "Some weights of the model checkpoint at ./prot_electra_discriminator_bfd were not used when initializing ElectraForSequenceClassification: ['discriminator_predictions.dense.weight', 'discriminator_predictions.dense.bias', 'discriminator_predictions.dense_prediction.weight', 'discriminator_predictions.dense_prediction.bias']\n",
      "- This IS expected if you are initializing ElectraForSequenceClassification from the checkpoint of a model trained on another task or with another architecture (e.g. initializing a BertForSequenceClassification model from a BertForPreTraining model).\n",
      "- This IS NOT expected if you are initializing ElectraForSequenceClassification from the checkpoint of a model that you expect to be exactly identical (initializing a BertForSequenceClassification model from a BertForSequenceClassification model).\n",
      "Some weights of ElectraForSequenceClassification were not initialized from the model checkpoint at ./prot_electra_discriminator_bfd and are newly initialized: ['classifier.dense.weight', 'classifier.dense.bias', 'classifier.out_proj.weight', 'classifier.out_proj.bias']\n",
      "You should probably TRAIN this model on a down-stream task to be able to use it for predictions and inference.\n",
      "Some weights of the model checkpoint at ./prot_electra_discriminator_bfd were not used when initializing ElectraForSequenceClassification: ['discriminator_predictions.dense.weight', 'discriminator_predictions.dense.bias', 'discriminator_predictions.dense_prediction.weight', 'discriminator_predictions.dense_prediction.bias']\n",
      "- This IS expected if you are initializing ElectraForSequenceClassification from the checkpoint of a model trained on another task or with another architecture (e.g. initializing a BertForSequenceClassification model from a BertForPreTraining model).\n",
      "- This IS NOT expected if you are initializing ElectraForSequenceClassification from the checkpoint of a model that you expect to be exactly identical (initializing a BertForSequenceClassification model from a BertForSequenceClassification model).\n",
      "Some weights of ElectraForSequenceClassification were not initialized from the model checkpoint at ./prot_electra_discriminator_bfd and are newly initialized: ['classifier.dense.weight', 'classifier.dense.bias', 'classifier.out_proj.weight', 'classifier.out_proj.bias']\n",
      "You should probably TRAIN this model on a down-stream task to be able to use it for predictions and inference.\n"
     ]
    },
    {
     "data": {
      "text/html": [
       "\n",
       "    <div>\n",
       "        <style>\n",
       "            /* Turns off some styling */\n",
       "            progress {\n",
       "                /* gets rid of default border in Firefox and Opera. */\n",
       "                border: none;\n",
       "                /* Needs to be in here for Safari polyfill so background images work as expected. */\n",
       "                background-size: auto;\n",
       "            }\n",
       "        </style>\n",
       "      \n",
       "      <progress value='10' max='10' style='width:300px; height:20px; vertical-align: middle;'></progress>\n",
       "      [10/10 06:02, Epoch 9/10]\n",
       "    </div>\n",
       "    <table border=\"1\" class=\"dataframe\">\n",
       "  <thead>\n",
       "    <tr style=\"text-align: left;\">\n",
       "      <th>Epoch</th>\n",
       "      <th>Training Loss</th>\n",
       "      <th>Validation Loss</th>\n",
       "      <th>Accuracy</th>\n",
       "      <th>F1</th>\n",
       "      <th>Precision</th>\n",
       "      <th>Recall</th>\n",
       "      <th>Mcc</th>\n",
       "      <th>Runtime</th>\n",
       "      <th>Samples Per Second</th>\n",
       "    </tr>\n",
       "  </thead>\n",
       "  <tbody>\n",
       "    <tr>\n",
       "      <td>0</td>\n",
       "      <td>No log</td>\n",
       "      <td>0.722118</td>\n",
       "      <td>0.137607</td>\n",
       "      <td>0.123371</td>\n",
       "      <td>0.066170</td>\n",
       "      <td>0.910256</td>\n",
       "      <td>-0.006627</td>\n",
       "      <td>13.583700</td>\n",
       "      <td>172.266000</td>\n",
       "    </tr>\n",
       "    <tr>\n",
       "      <td>1</td>\n",
       "      <td>0.967100</td>\n",
       "      <td>0.703966</td>\n",
       "      <td>0.426496</td>\n",
       "      <td>0.167494</td>\n",
       "      <td>0.092720</td>\n",
       "      <td>0.865385</td>\n",
       "      <td>0.134042</td>\n",
       "      <td>13.881700</td>\n",
       "      <td>168.568000</td>\n",
       "    </tr>\n",
       "    <tr>\n",
       "      <td>2</td>\n",
       "      <td>0.967100</td>\n",
       "      <td>0.670061</td>\n",
       "      <td>0.714103</td>\n",
       "      <td>0.247469</td>\n",
       "      <td>0.150068</td>\n",
       "      <td>0.705128</td>\n",
       "      <td>0.225811</td>\n",
       "      <td>13.520300</td>\n",
       "      <td>173.072000</td>\n",
       "    </tr>\n",
       "    <tr>\n",
       "      <td>3</td>\n",
       "      <td>1.197800</td>\n",
       "      <td>0.613714</td>\n",
       "      <td>0.838889</td>\n",
       "      <td>0.357751</td>\n",
       "      <td>0.243619</td>\n",
       "      <td>0.673077</td>\n",
       "      <td>0.337070</td>\n",
       "      <td>14.148000</td>\n",
       "      <td>165.395000</td>\n",
       "    </tr>\n",
       "    <tr>\n",
       "      <td>4</td>\n",
       "      <td>1.197800</td>\n",
       "      <td>0.549734</td>\n",
       "      <td>0.864957</td>\n",
       "      <td>0.410448</td>\n",
       "      <td>0.289474</td>\n",
       "      <td>0.705128</td>\n",
       "      <td>0.393296</td>\n",
       "      <td>22.801200</td>\n",
       "      <td>102.626000</td>\n",
       "    </tr>\n",
       "    <tr>\n",
       "      <td>5</td>\n",
       "      <td>1.056900</td>\n",
       "      <td>0.464085</td>\n",
       "      <td>0.870940</td>\n",
       "      <td>0.434457</td>\n",
       "      <td>0.306878</td>\n",
       "      <td>0.743590</td>\n",
       "      <td>0.422686</td>\n",
       "      <td>13.742300</td>\n",
       "      <td>170.277000</td>\n",
       "    </tr>\n",
       "    <tr>\n",
       "      <td>6</td>\n",
       "      <td>1.056900</td>\n",
       "      <td>0.354217</td>\n",
       "      <td>0.914530</td>\n",
       "      <td>0.526066</td>\n",
       "      <td>0.417293</td>\n",
       "      <td>0.711538</td>\n",
       "      <td>0.503395</td>\n",
       "      <td>14.630700</td>\n",
       "      <td>159.938000</td>\n",
       "    </tr>\n",
       "    <tr>\n",
       "      <td>7</td>\n",
       "      <td>0.813900</td>\n",
       "      <td>0.363372</td>\n",
       "      <td>0.876923</td>\n",
       "      <td>0.452471</td>\n",
       "      <td>0.321622</td>\n",
       "      <td>0.762821</td>\n",
       "      <td>0.442954</td>\n",
       "      <td>15.119600</td>\n",
       "      <td>154.766000</td>\n",
       "    </tr>\n",
       "    <tr>\n",
       "      <td>8</td>\n",
       "      <td>0.813900</td>\n",
       "      <td>0.382308</td>\n",
       "      <td>0.856410</td>\n",
       "      <td>0.424658</td>\n",
       "      <td>0.289720</td>\n",
       "      <td>0.794872</td>\n",
       "      <td>0.423071</td>\n",
       "      <td>14.100500</td>\n",
       "      <td>165.951000</td>\n",
       "    </tr>\n",
       "    <tr>\n",
       "      <td>9</td>\n",
       "      <td>0.590700</td>\n",
       "      <td>0.204666</td>\n",
       "      <td>0.947436</td>\n",
       "      <td>0.643478</td>\n",
       "      <td>0.587302</td>\n",
       "      <td>0.711538</td>\n",
       "      <td>0.618687</td>\n",
       "      <td>14.503500</td>\n",
       "      <td>161.341000</td>\n",
       "    </tr>\n",
       "  </tbody>\n",
       "</table><p>"
      ],
      "text/plain": [
       "<IPython.core.display.HTML object>"
      ]
     },
     "metadata": {},
     "output_type": "display_data"
    },
    {
     "data": {
      "text/plain": [
       "TrainOutput(global_step=10, training_loss=0.9252675175666809, metrics={'train_runtime': 385.2373, 'train_samples_per_second': 0.026, 'total_flos': 3588866076128640, 'epoch': 9.56})"
      ]
     },
     "execution_count": 7,
     "metadata": {},
     "output_type": "execute_result"
    }
   ],
   "source": [
    "training_args = TrainingArguments(\n",
    "    learning_rate=1e-4,\n",
    "    output_dir='./results',\n",
    "    num_train_epochs=10,\n",
    "    per_device_train_batch_size=10,\n",
    "    per_device_eval_batch_size=10,\n",
    "    warmup_steps=10,\n",
    "    weight_decay=0.01,\n",
    "    logging_dir='./logs',\n",
    "    logging_steps=2,\n",
    "    do_train=True,\n",
    "    do_eval=True,\n",
    "    evaluation_strategy=\"epoch\",\n",
    "    gradient_accumulation_steps=64,\n",
    "    fp16=True,\n",
    "    fp16_opt_level=\"02\",\n",
    "    run_name=\"ProBert-BFD-MS\",\n",
    "    seed=3401\n",
    ")\n",
    "\n",
    "trainer = Trainer(\n",
    "    model_init=model_init,\n",
    "    args=training_args,\n",
    "    train_dataset=train_dataset,\n",
    "    eval_dataset=test_dataset,\n",
    "    compute_metrics = compute_metrics,\n",
    ")\n",
    "\n",
    "trainer.train()"
   ]
  },
  {
   "cell_type": "code",
   "execution_count": 8,
   "metadata": {},
   "outputs": [
    {
     "data": {
      "text/html": [
       "\n",
       "    <div>\n",
       "        <style>\n",
       "            /* Turns off some styling */\n",
       "            progress {\n",
       "                /* gets rid of default border in Firefox and Opera. */\n",
       "                border: none;\n",
       "                /* Needs to be in here for Safari polyfill so background images work as expected. */\n",
       "                background-size: auto;\n",
       "            }\n",
       "        </style>\n",
       "      \n",
       "      <progress value='702' max='234' style='width:300px; height:20px; vertical-align: middle;'></progress>\n",
       "      [234/234 03:28]\n",
       "    </div>\n",
       "    "
      ],
      "text/plain": [
       "<IPython.core.display.HTML object>"
      ]
     },
     "metadata": {},
     "output_type": "display_data"
    },
    {
     "data": {
      "text/plain": [
       "{'eval_loss': 0.2046663761138916,\n",
       " 'eval_accuracy': 0.9474358974358974,\n",
       " 'eval_f1': 0.6434782608695652,\n",
       " 'eval_precision': 0.5873015873015873,\n",
       " 'eval_recall': 0.7115384615384616,\n",
       " 'eval_mcc': 0.618687344394677,\n",
       " 'eval_runtime': 160.4285,\n",
       " 'eval_samples_per_second': 14.586,\n",
       " 'epoch': 9.56}"
      ]
     },
     "execution_count": 8,
     "metadata": {},
     "output_type": "execute_result"
    }
   ],
   "source": [
    "trainer.evaluate(test_dataset)"
   ]
  },
  {
   "cell_type": "code",
   "execution_count": 9,
   "metadata": {},
   "outputs": [],
   "source": [
    "trainer.save_model('./model/MLCPPele-947.pt')"
   ]
  },
  {
   "cell_type": "code",
   "execution_count": 10,
   "metadata": {},
   "outputs": [],
   "source": [
    "result = trainer.predict(test_dataset).predictions\n",
    "golden = trainer.predict(test_dataset).label_ids\n",
    "result = torch.argmax(torch.tensor(result), -1)"
   ]
  },
  {
   "cell_type": "code",
   "execution_count": 11,
   "metadata": {},
   "outputs": [],
   "source": [
    "torch.save(result, 'MLCPPele_result3.pt')"
   ]
  },
  {
   "cell_type": "code",
   "execution_count": null,
   "metadata": {},
   "outputs": [],
   "source": []
  }
 ],
 "metadata": {
  "kernelspec": {
   "display_name": "Python 3 (ipykernel)",
   "language": "python",
   "name": "python3"
  },
  "language_info": {
   "codemirror_mode": {
    "name": "ipython",
    "version": 3
   },
   "file_extension": ".py",
   "mimetype": "text/x-python",
   "name": "python",
   "nbconvert_exporter": "python",
   "pygments_lexer": "ipython3",
   "version": "3.8.19"
  }
 },
 "nbformat": 4,
 "nbformat_minor": 4
}
