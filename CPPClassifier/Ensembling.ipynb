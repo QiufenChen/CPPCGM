{
 "cells": [
  {
   "cell_type": "code",
   "execution_count": 7,
   "metadata": {},
   "outputs": [],
   "source": [
    "from sklearn.metrics import accuracy_score, precision_recall_fscore_support, matthews_corrcoef\n",
    "import re\n",
    "import warnings\n",
    "from sklearn.metrics import confusion_matrix"
   ]
  },
  {
   "cell_type": "code",
   "execution_count": 2,
   "metadata": {},
   "outputs": [],
   "source": [
    "def calc(TN, FP, FN, TP):\n",
    "    SN = TP / (TP + FN)  # recall\n",
    "    SP = TN / (TN + FP)\n",
    "    # Precision = TP / (TP + FP)\n",
    "    ACC = (TP + TN) / (TP + TN + FN + FP)\n",
    "    # F1 = (2 * TP) / (2 * TP + FP + FN)\n",
    "    fz = TP * TN - FP * FN\n",
    "    fm = (TP + FN) * (TP + FP) * (TN + FP) * (TN + FN)\n",
    "    MCC = fz / pow(fm, 0.5)\n",
    "    return SN, SP, ACC, MCC"
   ]
  },
  {
   "cell_type": "code",
   "execution_count": 3,
   "metadata": {},
   "outputs": [],
   "source": [
    "def compute_metrics(pred, gold):\n",
    "    precision, recall, f1, _ = precision_recall_fscore_support(gold, pred, average='binary')\n",
    "    tn, fp, fn, tp = confusion_matrix(gold, pred).ravel()\n",
    "    sn, sp, acc, mcc = calc(tn, fp, fn, tp)\n",
    "    acc = accuracy_score(gold, pred)\n",
    "    return {\n",
    "        'accuracy': acc,\n",
    "        'sn':sn,\n",
    "        'sp':sp,\n",
    "        'mcc' : matthews_corrcoef(gold, pred)\n",
    "    }"
   ]
  },
  {
   "cell_type": "code",
   "execution_count": 65,
   "metadata": {},
   "outputs": [],
   "source": [
    "import torch\n",
    "r1 = torch.load('result1.pt')\n",
    "r2 = torch.load('result2.pt')\n",
    "r3 = torch.load('result3.pt')\n",
    "g = torch.load('golden.pt')"
   ]
  },
  {
   "cell_type": "code",
   "execution_count": 66,
   "metadata": {},
   "outputs": [
    {
     "data": {
      "text/plain": [
       "{'accuracy': 0.9542735042735043,\n",
       " 'sn': 0.6410256410256411,\n",
       " 'sp': 0.9766483516483516,\n",
       " 'mcc': 0.627099677460225}"
      ]
     },
     "execution_count": 66,
     "metadata": {},
     "output_type": "execute_result"
    }
   ],
   "source": [
    "compute_metrics(r1, g)"
   ]
  },
  {
   "cell_type": "code",
   "execution_count": 67,
   "metadata": {},
   "outputs": [
    {
     "data": {
      "text/plain": [
       "{'accuracy': 0.9196581196581196,\n",
       " 'sn': 0.6794871794871795,\n",
       " 'sp': 0.9368131868131868,\n",
       " 'mcc': 0.5030260655882637}"
      ]
     },
     "execution_count": 67,
     "metadata": {},
     "output_type": "execute_result"
    }
   ],
   "source": [
    "compute_metrics(r2, g)"
   ]
  },
  {
   "cell_type": "code",
   "execution_count": 68,
   "metadata": {},
   "outputs": [
    {
     "data": {
      "text/plain": [
       "{'accuracy': 0.9474358974358974,\n",
       " 'sn': 0.7115384615384616,\n",
       " 'sp': 0.9642857142857143,\n",
       " 'mcc': 0.618687344394677}"
      ]
     },
     "execution_count": 68,
     "metadata": {},
     "output_type": "execute_result"
    }
   ],
   "source": [
    "compute_metrics(r3, g)"
   ]
  },
  {
   "cell_type": "code",
   "execution_count": 69,
   "metadata": {},
   "outputs": [],
   "source": [
    "final_result = [max(set([r1[i],r2[i],r3[i]]), key=[r1[i],r2[i],r3[i]].count) for i in range(len(g))]"
   ]
  },
  {
   "cell_type": "code",
   "execution_count": 70,
   "metadata": {},
   "outputs": [
    {
     "data": {
      "text/plain": [
       "{'accuracy': 0.9508547008547008,\n",
       " 'sn': 0.6858974358974359,\n",
       " 'sp': 0.9697802197802198,\n",
       " 'mcc': 0.6250668872923902}"
      ]
     },
     "execution_count": 70,
     "metadata": {},
     "output_type": "execute_result"
    }
   ],
   "source": [
    "compute_metrics(final_result, g)"
   ]
  },
  {
   "cell_type": "code",
   "execution_count": 71,
   "metadata": {},
   "outputs": [
    {
     "data": {
      "text/plain": [
       "2184"
      ]
     },
     "execution_count": 71,
     "metadata": {},
     "output_type": "execute_result"
    }
   ],
   "source": [
    "import numpy as np\n",
    "np.sum(g == 0)"
   ]
  },
  {
   "cell_type": "code",
   "execution_count": 72,
   "metadata": {},
   "outputs": [],
   "source": [
    "final_result1 = [max(set([r1[i],r2[i],r3[i]]), key=[r1[i],r2[i],r3[i]].count) for i in range(len(g))]"
   ]
  },
  {
   "cell_type": "code",
   "execution_count": 73,
   "metadata": {},
   "outputs": [],
   "source": [
    "final_result2 = [1 if r1[i] ==1 and r3[i] == 1 else 0 for i in range(len(g))]"
   ]
  },
  {
   "cell_type": "code",
   "execution_count": 74,
   "metadata": {},
   "outputs": [
    {
     "data": {
      "text/plain": [
       "{'accuracy': 0.9606837606837607,\n",
       " 'sn': 0.6346153846153846,\n",
       " 'sp': 0.9839743589743589,\n",
       " 'mcc': 0.6641041252066732}"
      ]
     },
     "execution_count": 74,
     "metadata": {},
     "output_type": "execute_result"
    }
   ],
   "source": [
    "compute_metrics(final_result2, g)"
   ]
  },
  {
   "cell_type": "code",
   "execution_count": 77,
   "metadata": {},
   "outputs": [],
   "source": [
    "final_result3 = [1 if r1[i] ==1 and r2[i] == 1 and r3[i] == 1 else 0 for i in range(len(g))]"
   ]
  },
  {
   "cell_type": "code",
   "execution_count": 78,
   "metadata": {},
   "outputs": [
    {
     "data": {
      "text/plain": [
       "{'accuracy': 0.9504273504273504,\n",
       " 'sn': 0.6282051282051282,\n",
       " 'sp': 0.9734432234432234,\n",
       " 'mcc': 0.6016483516483516}"
      ]
     },
     "execution_count": 78,
     "metadata": {},
     "output_type": "execute_result"
    }
   ],
   "source": [
    "compute_metrics(final_result3, g)"
   ]
  },
  {
   "cell_type": "code",
   "execution_count": null,
   "metadata": {},
   "outputs": [],
   "source": []
  }
 ],
 "metadata": {
  "kernelspec": {
   "display_name": "Python 3",
   "language": "python",
   "name": "python3"
  },
  "language_info": {
   "codemirror_mode": {
    "name": "ipython",
    "version": 3
   },
   "file_extension": ".py",
   "mimetype": "text/x-python",
   "name": "python",
   "nbconvert_exporter": "python",
   "pygments_lexer": "ipython3",
   "version": "3.7.0"
  }
 },
 "nbformat": 4,
 "nbformat_minor": 2
}
