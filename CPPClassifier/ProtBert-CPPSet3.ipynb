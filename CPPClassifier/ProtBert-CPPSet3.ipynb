{
 "cells": [
  {
   "cell_type": "code",
   "execution_count": 1,
   "metadata": {},
   "outputs": [],
   "source": [
    "import torch\n",
    "from transformers import AutoTokenizer, Trainer, TrainingArguments, AutoModelForSequenceClassification\n",
    "from torch.utils.data import Dataset\n",
    "import os\n",
    "import pandas as pd\n",
    "import requests\n",
    "from tqdm.auto import tqdm\n",
    "import numpy as np\n",
    "from sklearn.metrics import accuracy_score, precision_recall_fscore_support, matthews_corrcoef\n",
    "from sklearn.metrics import confusion_matrix\n",
    "import re\n",
    "import warnings\n",
    "\n",
    "os.environ[\"WANDB_MODE\"] = \"disabled\"\n",
    "os.environ[\"WANDB_NOTEBOOK_NAME\"] = \"ProtBert-CPPSet3.ipynb\"\n",
    "\n",
    "warnings.filterwarnings(\"ignore\")"
   ]
  },
  {
   "cell_type": "code",
   "execution_count": 2,
   "metadata": {},
   "outputs": [],
   "source": [
    "model_name = '../Rostlab/prot_bert'"
   ]
  },
  {
   "cell_type": "code",
   "execution_count": 3,
   "metadata": {},
   "outputs": [],
   "source": [
    "class DeepLocDataset(Dataset):\n",
    "    def __init__(self, split=\"train\", tokenizer_name=model_name, max_length=80):\n",
    "        self.datasetFolderPath = '../dataset/'\n",
    "        self.trainFilePath = os.path.join(self.datasetFolderPath, 'CPPSet3-train.csv')\n",
    "        self.testFilePath = os.path.join(self.datasetFolderPath, 'CPPSet3-test.csv')\n",
    "        self.tokenizer = AutoTokenizer.from_pretrained(tokenizer_name, do_lower_case=False)\n",
    "        if split==\"train\":\n",
    "            self.seqs, self.labels = self.load_dataset(self.trainFilePath)\n",
    "        else:\n",
    "            self.seqs, self.labels = self.load_dataset(self.testFilePath)\n",
    "        self.max_length = max_length\n",
    "        \n",
    "    def load_dataset(self,path):\n",
    "        df = pd.read_csv(path,names=['input','labels'],skiprows=1)\n",
    "        seq = list(df['input'])\n",
    "        seq = [' '.join(i) for i in seq]\n",
    "        label = list(df['labels'])\n",
    "        assert len(seq) == len(label)\n",
    "        return seq, label\n",
    "\n",
    "    def __len__(self):\n",
    "        return len(self.labels)\n",
    "\n",
    "    def __getitem__(self, idx):\n",
    "        if torch.is_tensor(idx):\n",
    "            idx = idx.tolist()\n",
    "        seq = \" \".join(\"\".join(self.seqs[idx].split()))\n",
    "        seq = re.sub(r\"[UZOB]\", \"X\", seq)\n",
    "        seq_ids = self.tokenizer(seq, truncation=True, padding='max_length', max_length=self.max_length)\n",
    "        sample = {key: torch.tensor(val) for key, val in seq_ids.items()}\n",
    "        sample['labels'] = torch.tensor(self.labels[idx])\n",
    "        return sample"
   ]
  },
  {
   "cell_type": "code",
   "execution_count": 4,
   "metadata": {},
   "outputs": [],
   "source": [
    "train_dataset = DeepLocDataset(split=\"train\", tokenizer_name=model_name, max_length=80)\n",
    "test_dataset = DeepLocDataset(split=\"test\", tokenizer_name=model_name, max_length=80)"
   ]
  },
  {
   "cell_type": "code",
   "execution_count": 5,
   "metadata": {},
   "outputs": [],
   "source": [
    "def compute_metrics(pred):\n",
    "    labels = pred.label_ids\n",
    "    preds = pred.predictions.argmax(-1)\n",
    "\n",
    "    tn, fp, fn, tp = confusion_matrix(labels, preds).ravel()\n",
    "    specificity = tn / (tn+fp)\n",
    "\n",
    "    precision, recall, f1, _ = precision_recall_fscore_support(labels, preds, average='binary')\n",
    "    acc = accuracy_score(labels, preds)\n",
    "    return {\n",
    "        'accuracy': acc,\n",
    "        'precision': precision,\n",
    "        'recall': recall,\n",
    "        'specificity': specificity,\n",
    "        'f1': f1,\n",
    "        'mcc' : matthews_corrcoef(labels, preds)\n",
    "    }"
   ]
  },
  {
   "cell_type": "code",
   "execution_count": 6,
   "metadata": {},
   "outputs": [],
   "source": [
    "def model_init():\n",
    "    model = AutoModelForSequenceClassification.from_pretrained(model_name)\n",
    "    for param in model.parameters(): param.data = param.data.contiguous()\n",
    "    return model"
   ]
  },
  {
   "cell_type": "code",
   "execution_count": 7,
   "metadata": {},
   "outputs": [
    {
     "name": "stderr",
     "output_type": "stream",
     "text": [
      "Some weights of BertForSequenceClassification were not initialized from the model checkpoint at ../Rostlab/prot_bert and are newly initialized: ['classifier.bias', 'classifier.weight']\n",
      "You should probably TRAIN this model on a down-stream task to be able to use it for predictions and inference.\n",
      "Some weights of BertForSequenceClassification were not initialized from the model checkpoint at ../Rostlab/prot_bert and are newly initialized: ['classifier.bias', 'classifier.weight']\n",
      "You should probably TRAIN this model on a down-stream task to be able to use it for predictions and inference.\n"
     ]
    },
    {
     "data": {
      "text/html": [
       "\n",
       "    <div>\n",
       "      \n",
       "      <progress value='10' max='10' style='width:300px; height:20px; vertical-align: middle;'></progress>\n",
       "      [10/10 03:38, Epoch 5/10]\n",
       "    </div>\n",
       "    <table border=\"1\" class=\"dataframe\">\n",
       "  <thead>\n",
       " <tr style=\"text-align: left;\">\n",
       "      <th>Epoch</th>\n",
       "      <th>Training Loss</th>\n",
       "      <th>Validation Loss</th>\n",
       "      <th>Accuracy</th>\n",
       "      <th>Precision</th>\n",
       "      <th>Recall</th>\n",
       "      <th>Specificity</th>\n",
       "      <th>F1</th>\n",
       "      <th>Mcc</th>\n",
       "    </tr>\n",
       "  </thead>\n",
       "  <tbody>\n",
       "    <tr>\n",
       "      <td>0</td>\n",
       "      <td>No log</td>\n",
       "      <td>0.664176</td>\n",
       "      <td>0.932935</td>\n",
       "      <td>0.000000</td>\n",
       "      <td>0.000000</td>\n",
       "      <td>1.000000</td>\n",
       "      <td>0.000000</td>\n",
       "      <td>0.000000</td>\n",
       "    </tr>\n",
       "    <tr>\n",
       "      <td>1</td>\n",
       "      <td>0.693300</td>\n",
       "      <td>0.672204</td>\n",
       "      <td>0.932935</td>\n",
       "      <td>0.500000</td>\n",
       "      <td>0.012739</td>\n",
       "      <td>0.999084</td>\n",
       "      <td>0.024845</td>\n",
       "      <td>0.071606</td>\n",
       "    </tr>\n",
       "    <tr>\n",
       "      <td>2</td>\n",
       "      <td>0.689600</td>\n",
       "      <td>0.638558</td>\n",
       "      <td>0.914139</td>\n",
       "      <td>0.408333</td>\n",
       "      <td>0.624204</td>\n",
       "      <td>0.934982</td>\n",
       "      <td>0.493703</td>\n",
       "      <td>0.461119</td>\n",
       "    </tr>\n",
       "    <tr>\n",
       "      <td>3</td>\n",
       "      <td>0.663100</td>\n",
       "      <td>0.546858</td>\n",
       "      <td>0.941051</td>\n",
       "      <td>0.570370</td>\n",
       "      <td>0.490446</td>\n",
       "      <td>0.973443</td>\n",
       "      <td>0.527397</td>\n",
       "      <td>0.497761</td>\n",
       "    </tr>\n",
       "    <tr>\n",
       "      <td>4</td>\n",
       "      <td>0.613800</td>\n",
       "      <td>0.663192</td>\n",
       "      <td>0.635199</td>\n",
       "      <td>0.146910</td>\n",
       "      <td>0.923567</td>\n",
       "      <td>0.614469</td>\n",
       "      <td>0.253497</td>\n",
       "      <td>0.272533</td>\n",
       "    </tr>\n",
       "    <tr>\n",
       "      <td>5</td>\n",
       "      <td>0.542700</td>\n",
       "      <td>0.466026</td>\n",
       "      <td>0.871850</td>\n",
       "      <td>0.311346</td>\n",
       "      <td>0.751592</td>\n",
       "      <td>0.880495</td>\n",
       "      <td>0.440299</td>\n",
       "      <td>0.429224</td>\n",
       "    </tr>\n",
       "  </tbody>\n",
       "</table><p>"
      ],
      "text/plain": [
       "<IPython.core.display.HTML object>"
      ]
     },
     "metadata": {},
     "output_type": "display_data"
    },
    {
     "data": {
      "text/plain": [
       "TrainOutput(global_step=10, training_loss=0.6405044078826905, metrics={'train_runtime': 229.7866, 'train_samples_per_second': 49.916, 'train_steps_per_second': 0.044, 'total_flos': 1079525462798400.0, 'train_loss': 0.6405044078826905, 'epoch': 5.172413793103448})"
      ]
     },
     "execution_count": 7,
     "metadata": {},
     "output_type": "execute_result"
    }
   ],
   "source": [
    "training_args = TrainingArguments(\n",
    "    learning_rate=1e-4,\n",
    "    output_dir='../results',\n",
    "    num_train_epochs=10,\n",
    "    per_device_train_batch_size=10,\n",
    "    per_device_eval_batch_size=10,\n",
    "    warmup_steps=10,\n",
    "    weight_decay=0.01,\n",
    "    logging_dir='../logs',\n",
    "    logging_steps=2,\n",
    "    do_train=True,\n",
    "    do_eval=True,\n",
    "    evaluation_strategy=\"epoch\",\n",
    "    gradient_accumulation_steps=30,\n",
    "    fp16=True,\n",
    "    fp16_opt_level=\"02\",\n",
    "    run_name=\"ProBert-BFD-MS\",\n",
    "    seed=42\n",
    ")\n",
    "\n",
    "# 26\n",
    "\n",
    "trainer = Trainer(\n",
    "    model_init=model_init,\n",
    "    args=training_args,\n",
    "    train_dataset=train_dataset,\n",
    "    eval_dataset=test_dataset,\n",
    "    compute_metrics = compute_metrics,\n",
    ")\n",
    "\n",
    "trainer.train()"
   ]
  },
  {
   "cell_type": "code",
   "execution_count": 8,
   "metadata": {},
   "outputs": [
    {
     "data": {
      "text/html": [],
      "text/plain": [
       "<IPython.core.display.HTML object>"
      ]
     },
     "metadata": {},
     "output_type": "display_data"
    },
    {
     "data": {
      "text/plain": [
       "{'eval_loss': 0.46602606773376465,\n",
       " 'eval_accuracy': 0.8718496369073045,\n",
       " 'eval_precision': 0.3113456464379947,\n",
       " 'eval_recall': 0.7515923566878981,\n",
       " 'eval_specificity': 0.8804945054945055,\n",
       " 'eval_f1': 0.4402985074626866,\n",
       " 'eval_mcc': 0.42922380521278286,\n",
       " 'eval_runtime': 19.1917,\n",
       " 'eval_samples_per_second': 121.98,\n",
       " 'eval_steps_per_second': 6.148,\n",
       " 'epoch': 5.172413793103448}"
      ]
     },
     "execution_count": 8,
     "metadata": {},
     "output_type": "execute_result"
    }
   ],
   "source": [
    "trainer.evaluate(test_dataset)"
   ]
  },
  {
   "cell_type": "code",
   "execution_count": 9,
   "metadata": {},
   "outputs": [],
   "source": [
    "trainer.save_model('../model/ProtBert_CPPSet3.pt')"
   ]
  },
  {
   "cell_type": "code",
   "execution_count": 10,
   "metadata": {},
   "outputs": [
    {
     "data": {
      "text/html": [],
      "text/plain": [
       "<IPython.core.display.HTML object>"
      ]
     },
     "metadata": {},
     "output_type": "display_data"
    }
   ],
   "source": [
    "result = trainer.predict(test_dataset).predictions\n",
    "golden = trainer.predict(test_dataset).label_ids\n",
    "result = torch.argmax(torch.tensor(result), -1)"
   ]
  },
  {
   "cell_type": "code",
   "execution_count": 11,
   "metadata": {},
   "outputs": [],
   "source": [
    "torch.save(result, '../model/CPPSet3_result1.pt')"
   ]
  },
  {
   "cell_type": "code",
   "execution_count": 12,
   "metadata": {},
   "outputs": [],
   "source": [
    "torch.save(golden, '../model/CPPSet3_golden1.pt')"
   ]
  },
  {
   "cell_type": "code",
   "execution_count": null,
   "metadata": {},
   "outputs": [],
   "source": []
  }
 ],
 "metadata": {
  "kernelspec": {
   "display_name": "Python 3 (ipykernel)",
   "language": "python",
   "name": "python3"
  },
  "language_info": {
   "codemirror_mode": {
    "name": "ipython",
    "version": 3
   },
   "file_extension": ".py",
   "mimetype": "text/x-python",
   "name": "python",
   "nbconvert_exporter": "python",
   "pygments_lexer": "ipython3",
   "version": "3.8.19"
  }
 },
 "nbformat": 4,
 "nbformat_minor": 4
}
