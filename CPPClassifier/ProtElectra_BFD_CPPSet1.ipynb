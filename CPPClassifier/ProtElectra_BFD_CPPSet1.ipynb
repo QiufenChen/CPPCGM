{
 "cells": [
  {
   "cell_type": "code",
   "execution_count": 1,
   "metadata": {},
   "outputs": [],
   "source": [
    "import torch\n",
    "from transformers import AutoTokenizer, Trainer, TrainingArguments, AutoModelForSequenceClassification\n",
    "from torch.utils.data import Dataset\n",
    "import os\n",
    "import pandas as pd\n",
    "import requests\n",
    "from tqdm.auto import tqdm\n",
    "import numpy as np\n",
    "from sklearn.metrics import accuracy_score, precision_recall_fscore_support, matthews_corrcoef\n",
    "from imblearn.metrics import specificity_score\n",
    "import re\n",
    "import warnings\n",
    "import os\n",
    "os.environ[\"WANDB_MODE\"] = \"disabled\"\n",
    "os.environ[\"PYTORCH_CUDA_ALLOC_CONF\"] = \"expandable_segments:True\"\n",
    "warnings.filterwarnings(\"ignore\")"
   ]
  },
  {
   "cell_type": "code",
   "execution_count": 2,
   "metadata": {},
   "outputs": [],
   "source": [
    "model_name = '../Rostlab/prot_electra_discriminator_bfd'"
   ]
  },
  {
   "cell_type": "code",
   "execution_count": 3,
   "metadata": {},
   "outputs": [],
   "source": [
    "class DeepLocDataset(Dataset):\n",
    "    def __init__(self, split=\"train\", tokenizer_name=model_name, max_length=80):\n",
    "        self.datasetFolderPath = '../dataset/'\n",
    "        self.trainFilePath = os.path.join(self.datasetFolderPath, 'CPPSet1-train.csv')\n",
    "        self.testFilePath = os.path.join(self.datasetFolderPath, 'CPPSet1-test.csv')\n",
    "        self.tokenizer = AutoTokenizer.from_pretrained(tokenizer_name, do_lower_case=False)\n",
    "        if split==\"train\":\n",
    "            self.seqs, self.labels = self.load_dataset(self.trainFilePath)\n",
    "        else:\n",
    "            self.seqs, self.labels = self.load_dataset(self.testFilePath)\n",
    "        self.max_length = max_length\n",
    "        \n",
    "    def load_dataset(self,path):\n",
    "        df = pd.read_csv(path,names=['input','labels'],skiprows=1)\n",
    "        seq = list(df['input'])\n",
    "        seq = [' '.join(i) for i in seq]\n",
    "        label = list(df['labels'])\n",
    "        assert len(seq) == len(label)\n",
    "        return seq, label\n",
    "\n",
    "    def __len__(self):\n",
    "        return len(self.labels)\n",
    "\n",
    "    def __getitem__(self, idx):\n",
    "        if torch.is_tensor(idx):\n",
    "            idx = idx.tolist()\n",
    "        seq = \" \".join(\"\".join(self.seqs[idx].split()))\n",
    "        seq = re.sub(r\"[UZOB]\", \"X\", seq)\n",
    "        seq_ids = self.tokenizer(seq, truncation=True, padding='max_length', max_length=self.max_length)\n",
    "        sample = {key: torch.tensor(val) for key, val in seq_ids.items()}\n",
    "        sample['labels'] = torch.tensor(self.labels[idx])\n",
    "        return sample"
   ]
  },
  {
   "cell_type": "code",
   "execution_count": 4,
   "metadata": {},
   "outputs": [],
   "source": [
    "train_dataset = DeepLocDataset(split=\"train\", tokenizer_name=model_name, max_length=80)\n",
    "test_dataset = DeepLocDataset(split=\"test\", tokenizer_name=model_name, max_length=80)"
   ]
  },
  {
   "cell_type": "code",
   "execution_count": 5,
   "metadata": {},
   "outputs": [],
   "source": [
    "def compute_metrics(pred):\n",
    "    labels = pred.label_ids\n",
    "    preds = pred.predictions.argmax(-1)\n",
    "    precision, recall, f1, _ = precision_recall_fscore_support(labels, preds, average='binary')\n",
    "    acc = accuracy_score(labels, preds)\n",
    "    spec = specificity_score(labels, preds)\n",
    "    return {\n",
    "        'accuracy': acc,\n",
    "        'precision': precision,\n",
    "        'recall': recall,\n",
    "        'specificity': spec,\n",
    "        'f1': f1,\n",
    "        'mcc' : matthews_corrcoef(labels, preds)\n",
    "    }"
   ]
  },
  {
   "cell_type": "code",
   "execution_count": 6,
   "metadata": {},
   "outputs": [],
   "source": [
    "def model_init():\n",
    "    model = AutoModelForSequenceClassification.from_pretrained(model_name)\n",
    "    # for param in model.parameters(): param.data = param.data.contiguous()\n",
    "    return model"
   ]
  },
  {
   "cell_type": "code",
   "execution_count": 7,
   "metadata": {},
   "outputs": [
    {
     "name": "stdout",
     "output_type": "stream",
     "text": [
      "2\n"
     ]
    },
    {
     "name": "stderr",
     "output_type": "stream",
     "text": [
      "Some weights of ElectraForSequenceClassification were not initialized from the model checkpoint at ../Rostlab/prot_electra_discriminator_bfd and are newly initialized: ['classifier.dense.bias', 'classifier.dense.weight', 'classifier.out_proj.bias', 'classifier.out_proj.weight']\n",
      "You should probably TRAIN this model on a down-stream task to be able to use it for predictions and inference.\n",
      "Some weights of ElectraForSequenceClassification were not initialized from the model checkpoint at ../Rostlab/prot_electra_discriminator_bfd and are newly initialized: ['classifier.dense.bias', 'classifier.dense.weight', 'classifier.out_proj.bias', 'classifier.out_proj.weight']\n",
      "You should probably TRAIN this model on a down-stream task to be able to use it for predictions and inference.\n"
     ]
    },
    {
     "data": {
      "text/html": [
       "\n",
       "    <div>\n",
       "      \n",
       "      <progress value='60' max='60' style='width:300px; height:20px; vertical-align: middle;'></progress>\n",
       "      [60/60 17:32, Epoch 15/20]\n",
       "    </div>\n",
       "    <table border=\"1\" class=\"dataframe\">\n",
       "  <thead>\n",
       " <tr style=\"text-align: left;\">\n",
       "      <th>Epoch</th>\n",
       "      <th>Training Loss</th>\n",
       "      <th>Validation Loss</th>\n",
       "      <th>Accuracy</th>\n",
       "      <th>Precision</th>\n",
       "      <th>Recall</th>\n",
       "      <th>Specificity</th>\n",
       "      <th>F1</th>\n",
       "      <th>Mcc</th>\n",
       "    </tr>\n",
       "  </thead>\n",
       "  <tbody>\n",
       "    <tr>\n",
       "      <td>0</td>\n",
       "      <td>0.694300</td>\n",
       "      <td>0.659121</td>\n",
       "      <td>0.763043</td>\n",
       "      <td>0.706485</td>\n",
       "      <td>0.900000</td>\n",
       "      <td>0.626087</td>\n",
       "      <td>0.791587</td>\n",
       "      <td>0.547008</td>\n",
       "    </tr>\n",
       "    <tr>\n",
       "      <td>1</td>\n",
       "      <td>0.589900</td>\n",
       "      <td>0.422781</td>\n",
       "      <td>0.869565</td>\n",
       "      <td>0.876106</td>\n",
       "      <td>0.860870</td>\n",
       "      <td>0.878261</td>\n",
       "      <td>0.868421</td>\n",
       "      <td>0.739242</td>\n",
       "    </tr>\n",
       "    <tr>\n",
       "      <td>2</td>\n",
       "      <td>0.351500</td>\n",
       "      <td>0.519985</td>\n",
       "      <td>0.571739</td>\n",
       "      <td>0.746269</td>\n",
       "      <td>0.217391</td>\n",
       "      <td>0.926087</td>\n",
       "      <td>0.336700</td>\n",
       "      <td>0.203367</td>\n",
       "    </tr>\n",
       "    <tr>\n",
       "      <td>3</td>\n",
       "      <td>0.238000</td>\n",
       "      <td>0.217912</td>\n",
       "      <td>0.919565</td>\n",
       "      <td>0.890688</td>\n",
       "      <td>0.956522</td>\n",
       "      <td>0.882609</td>\n",
       "      <td>0.922432</td>\n",
       "      <td>0.841432</td>\n",
       "    </tr>\n",
       "    <tr>\n",
       "      <td>4</td>\n",
       "      <td>0.146100</td>\n",
       "      <td>0.173646</td>\n",
       "      <td>0.939130</td>\n",
       "      <td>0.946903</td>\n",
       "      <td>0.930435</td>\n",
       "      <td>0.947826</td>\n",
       "      <td>0.938596</td>\n",
       "      <td>0.878394</td>\n",
       "    </tr>\n",
       "    <tr>\n",
       "      <td>6</td>\n",
       "      <td>0.041100</td>\n",
       "      <td>0.212009</td>\n",
       "      <td>0.934783</td>\n",
       "      <td>0.900000</td>\n",
       "      <td>0.978261</td>\n",
       "      <td>0.891304</td>\n",
       "      <td>0.937500</td>\n",
       "      <td>0.872872</td>\n",
       "    </tr>\n",
       "    <tr>\n",
       "      <td>7</td>\n",
       "      <td>0.067900</td>\n",
       "      <td>0.322229</td>\n",
       "      <td>0.902174</td>\n",
       "      <td>0.854406</td>\n",
       "      <td>0.969565</td>\n",
       "      <td>0.834783</td>\n",
       "      <td>0.908350</td>\n",
       "      <td>0.811755</td>\n",
       "    </tr>\n",
       "    <tr>\n",
       "      <td>8</td>\n",
       "      <td>0.024500</td>\n",
       "      <td>0.282630</td>\n",
       "      <td>0.930435</td>\n",
       "      <td>0.938053</td>\n",
       "      <td>0.921739</td>\n",
       "      <td>0.939130</td>\n",
       "      <td>0.929825</td>\n",
       "      <td>0.861000</td>\n",
       "    </tr>\n",
       "    <tr>\n",
       "      <td>9</td>\n",
       "      <td>0.017800</td>\n",
       "      <td>0.262599</td>\n",
       "      <td>0.950000</td>\n",
       "      <td>0.940426</td>\n",
       "      <td>0.960870</td>\n",
       "      <td>0.939130</td>\n",
       "      <td>0.950538</td>\n",
       "      <td>0.900213</td>\n",
       "    </tr>\n",
       "    <tr>\n",
       "      <td>10</td>\n",
       "      <td>0.012500</td>\n",
       "      <td>0.293920</td>\n",
       "      <td>0.945652</td>\n",
       "      <td>0.939914</td>\n",
       "      <td>0.952174</td>\n",
       "      <td>0.939130</td>\n",
       "      <td>0.946004</td>\n",
       "      <td>0.891380</td>\n",
       "    </tr>\n",
       "    <tr>\n",
       "      <td>12</td>\n",
       "      <td>0.000900</td>\n",
       "      <td>0.324473</td>\n",
       "      <td>0.939130</td>\n",
       "      <td>0.927966</td>\n",
       "      <td>0.952174</td>\n",
       "      <td>0.926087</td>\n",
       "      <td>0.939914</td>\n",
       "      <td>0.878560</td>\n",
       "    </tr>\n",
       "    <tr>\n",
       "      <td>13</td>\n",
       "      <td>0.000400</td>\n",
       "      <td>0.371350</td>\n",
       "      <td>0.939130</td>\n",
       "      <td>0.920833</td>\n",
       "      <td>0.960870</td>\n",
       "      <td>0.917391</td>\n",
       "      <td>0.940426</td>\n",
       "      <td>0.879092</td>\n",
       "    </tr>\n",
       "    <tr>\n",
       "      <td>14</td>\n",
       "      <td>0.000600</td>\n",
       "      <td>0.394709</td>\n",
       "      <td>0.941304</td>\n",
       "      <td>0.924686</td>\n",
       "      <td>0.960870</td>\n",
       "      <td>0.921739</td>\n",
       "      <td>0.942431</td>\n",
       "      <td>0.883285</td>\n",
       "    </tr>\n",
       "    <tr>\n",
       "      <td>15</td>\n",
       "      <td>0.000100</td>\n",
       "      <td>0.403662</td>\n",
       "      <td>0.941304</td>\n",
       "      <td>0.924686</td>\n",
       "      <td>0.960870</td>\n",
       "      <td>0.921739</td>\n",
       "      <td>0.942431</td>\n",
       "      <td>0.883285</td>\n",
       "    </tr>\n",
       "  </tbody>\n",
       "</table><p>"
      ],
      "text/plain": [
       "<IPython.core.display.HTML object>"
      ]
     },
     "metadata": {},
     "output_type": "display_data"
    },
    {
     "data": {
      "text/plain": [
       "TrainOutput(global_step=60, training_loss=0.14174898940109415, metrics={'train_runtime': 1069.106, 'train_samples_per_second': 34.421, 'train_steps_per_second': 0.056, 'total_flos': 8727407520768000.0, 'train_loss': 0.14174898940109415, 'epoch': 15.652173913043478})"
      ]
     },
     "execution_count": 7,
     "metadata": {},
     "output_type": "execute_result"
    }
   ],
   "source": [
    "import torch\n",
    "print(torch.cuda.device_count()) \n",
    "\n",
    "training_args = TrainingArguments(\n",
    "    learning_rate=1e-4,\n",
    "    output_dir='../results',\n",
    "    num_train_epochs=20,\n",
    "    per_device_train_batch_size=8,\n",
    "    per_device_eval_batch_size=8,\n",
    "    warmup_steps=10,\n",
    "    weight_decay=0.01,\n",
    "    logging_dir='../logs',\n",
    "    logging_steps=2,\n",
    "    do_train=True,\n",
    "    do_eval=True,\n",
    "    evaluation_strategy=\"epoch\",\n",
    "    gradient_accumulation_steps=30,\n",
    "    fp16=True,\n",
    "    fp16_opt_level=\"01\",\n",
    "    run_name=\"ProBert-BFD-MS\",\n",
    "    seed=3407,\n",
    "    dataloader_num_workers=4,\n",
    "    local_rank=-1)\n",
    "\n",
    "trainer = Trainer(\n",
    "    model_init=model_init,\n",
    "    args=training_args,\n",
    "    train_dataset=train_dataset,\n",
    "    eval_dataset=test_dataset,\n",
    "    compute_metrics = compute_metrics)\n",
    "\n",
    "trainer.train()"
   ]
  },
  {
   "cell_type": "code",
   "execution_count": 8,
   "metadata": {},
   "outputs": [
    {
     "data": {
      "text/html": [],
      "text/plain": [
       "<IPython.core.display.HTML object>"
      ]
     },
     "metadata": {},
     "output_type": "display_data"
    },
    {
     "data": {
      "text/plain": [
       "{'eval_loss': 0.4036616384983063,\n",
       " 'eval_accuracy': 0.941304347826087,\n",
       " 'eval_precision': 0.9246861924686193,\n",
       " 'eval_recall': 0.9608695652173913,\n",
       " 'eval_specificity': 0.9217391304347826,\n",
       " 'eval_f1': 0.9424307036247336,\n",
       " 'eval_mcc': 0.8832851938504245,\n",
       " 'eval_runtime': 7.0543,\n",
       " 'eval_samples_per_second': 65.209,\n",
       " 'eval_steps_per_second': 4.111,\n",
       " 'epoch': 15.652173913043478}"
      ]
     },
     "execution_count": 8,
     "metadata": {},
     "output_type": "execute_result"
    }
   ],
   "source": [
    "trainer.evaluate(test_dataset)"
   ]
  },
  {
   "cell_type": "code",
   "execution_count": 9,
   "metadata": {},
   "outputs": [],
   "source": [
    "trainer.save_model('../model/ProtElectra_CPPSet1.pt')"
   ]
  },
  {
   "cell_type": "code",
   "execution_count": 10,
   "metadata": {},
   "outputs": [
    {
     "data": {
      "text/html": [],
      "text/plain": [
       "<IPython.core.display.HTML object>"
      ]
     },
     "metadata": {},
     "output_type": "display_data"
    }
   ],
   "source": [
    "result = trainer.predict(test_dataset).predictions\n",
    "golden = trainer.predict(test_dataset).label_ids\n",
    "result = torch.argmax(torch.tensor(result), -1)"
   ]
  },
  {
   "cell_type": "code",
   "execution_count": 12,
   "metadata": {},
   "outputs": [],
   "source": [
    "torch.save(result, '../model/CPPSet1_result3.pt')"
   ]
  },
  {
   "cell_type": "code",
   "execution_count": null,
   "metadata": {},
   "outputs": [],
   "source": []
  }
 ],
 "metadata": {
  "kernelspec": {
   "display_name": "Python 3 (ipykernel)",
   "language": "python",
   "name": "python3"
  },
  "language_info": {
   "codemirror_mode": {
    "name": "ipython",
    "version": 3
   },
   "file_extension": ".py",
   "mimetype": "text/x-python",
   "name": "python",
   "nbconvert_exporter": "python",
   "pygments_lexer": "ipython3",
   "version": "3.8.19"
  }
 },
 "nbformat": 4,
 "nbformat_minor": 4
}
