{
 "cells": [
  {
   "cell_type": "code",
   "execution_count": 1,
   "metadata": {},
   "outputs": [],
   "source": [
    "import torch\n",
    "from transformers import AutoTokenizer, Trainer, TrainingArguments, AutoModelForSequenceClassification\n",
    "from torch.utils.data import Dataset\n",
    "import os\n",
    "import pandas as pd\n",
    "import requests\n",
    "from tqdm.auto import tqdm\n",
    "import numpy as np\n",
    "from sklearn.metrics import accuracy_score, precision_recall_fscore_support, matthews_corrcoef\n",
    "from imblearn.metrics import specificity_score\n",
    "import re\n",
    "import warnings\n",
    "import os\n",
    "os.environ[\"WANDB_MODE\"] = \"disabled\"\n",
    "warnings.filterwarnings(\"ignore\")"
   ]
  },
  {
   "cell_type": "code",
   "execution_count": 2,
   "metadata": {},
   "outputs": [],
   "source": [
    "model_name = '../Rostlab/prot_bert'"
   ]
  },
  {
   "cell_type": "code",
   "execution_count": 3,
   "metadata": {},
   "outputs": [],
   "source": [
    "class DeepLocDataset(Dataset):\n",
    "    def __init__(self, split=\"train\", tokenizer_name=model_name, max_length=80):\n",
    "        self.datasetFolderPath = '../dataset/'\n",
    "        self.trainFilePath = os.path.join(self.datasetFolderPath, 'CPPSet1-train.csv')\n",
    "        self.testFilePath = os.path.join(self.datasetFolderPath, 'CPPSet1-test.csv')\n",
    "        self.tokenizer = AutoTokenizer.from_pretrained(tokenizer_name, do_lower_case=False)\n",
    "        if split==\"train\":\n",
    "            self.seqs, self.labels = self.load_dataset(self.trainFilePath)\n",
    "        else:\n",
    "            self.seqs, self.labels = self.load_dataset(self.testFilePath)\n",
    "        self.max_length = max_length\n",
    "        \n",
    "    def load_dataset(self,path):\n",
    "        df = pd.read_csv(path,names=['input','labels'],skiprows=1)\n",
    "        seq = list(df['input'])\n",
    "        seq = [' '.join(i) for i in seq]\n",
    "        label = list(df['labels'])\n",
    "        assert len(seq) == len(label)\n",
    "        return seq, label\n",
    "\n",
    "    def __len__(self):\n",
    "        return len(self.labels)\n",
    "\n",
    "    def __getitem__(self, idx):\n",
    "        if torch.is_tensor(idx):\n",
    "            idx = idx.tolist()\n",
    "        seq = \" \".join(\"\".join(self.seqs[idx].split()))\n",
    "        seq = re.sub(r\"[UZOB]\", \"X\", seq)\n",
    "        seq_ids = self.tokenizer(seq, truncation=True, padding='max_length', max_length=self.max_length)\n",
    "        sample = {key: torch.tensor(val) for key, val in seq_ids.items()}\n",
    "        sample['labels'] = torch.tensor(self.labels[idx])\n",
    "        return sample"
   ]
  },
  {
   "cell_type": "code",
   "execution_count": 4,
   "metadata": {},
   "outputs": [],
   "source": [
    "train_dataset = DeepLocDataset(split=\"train\", tokenizer_name=model_name, max_length=80)\n",
    "test_dataset = DeepLocDataset(split=\"test\", tokenizer_name=model_name, max_length=80)"
   ]
  },
  {
   "cell_type": "code",
   "execution_count": 5,
   "metadata": {},
   "outputs": [],
   "source": [
    "def compute_metrics(pred):\n",
    "    labels = pred.label_ids\n",
    "    preds = pred.predictions.argmax(-1)\n",
    "    precision, recall, f1, _ = precision_recall_fscore_support(labels, preds, average='binary')\n",
    "    acc = accuracy_score(labels, preds)\n",
    "    spec = specificity_score(labels, preds)\n",
    "    return {\n",
    "        'accuracy': acc,\n",
    "        'precision': precision,\n",
    "        'recall': recall,\n",
    "        'specificity': spec,\n",
    "        'f1': f1,\n",
    "        'mcc' : matthews_corrcoef(labels, preds)\n",
    "    }"
   ]
  },
  {
   "cell_type": "code",
   "execution_count": 6,
   "metadata": {},
   "outputs": [],
   "source": [
    "def model_init():\n",
    "    model = AutoModelForSequenceClassification.from_pretrained(model_name)\n",
    "    #for param in model.parameters(): param.data = param.data.contiguous()\n",
    "    return model"
   ]
  },
  {
   "cell_type": "code",
   "execution_count": 7,
   "metadata": {},
   "outputs": [],
   "source": [
    "#pip install accelerate --upgrade -i http://pypi.douban.com/simple/"
   ]
  },
  {
   "cell_type": "code",
   "execution_count": 8,
   "metadata": {},
   "outputs": [
    {
     "name": "stderr",
     "output_type": "stream",
     "text": [
      "Some weights of BertForSequenceClassification were not initialized from the model checkpoint at ../Rostlab/prot_bert and are newly initialized: ['classifier.bias', 'classifier.weight']\n",
      "You should probably TRAIN this model on a down-stream task to be able to use it for predictions and inference.\n",
      "Some weights of BertForSequenceClassification were not initialized from the model checkpoint at ../Rostlab/prot_bert and are newly initialized: ['classifier.bias', 'classifier.weight']\n",
      "You should probably TRAIN this model on a down-stream task to be able to use it for predictions and inference.\n"
     ]
    },
    {
     "data": {
      "text/html": [
       "\n",
       "    <div>\n",
       "      \n",
       "      <progress value='60' max='60' style='width:300px; height:20px; vertical-align: middle;'></progress>\n",
       "      [60/60 11:14, Epoch 15/20]\n",
       "    </div>\n",
       "    <table border=\"1\" class=\"dataframe\">\n",
       "  <thead>\n",
       " <tr style=\"text-align: left;\">\n",
       "      <th>Epoch</th>\n",
       "      <th>Training Loss</th>\n",
       "      <th>Validation Loss</th>\n",
       "      <th>Accuracy</th>\n",
       "      <th>Precision</th>\n",
       "      <th>Recall</th>\n",
       "      <th>Specificity</th>\n",
       "      <th>F1</th>\n",
       "      <th>Mcc</th>\n",
       "    </tr>\n",
       "  </thead>\n",
       "  <tbody>\n",
       "    <tr>\n",
       "      <td>0</td>\n",
       "      <td>0.690600</td>\n",
       "      <td>0.689576</td>\n",
       "      <td>0.500000</td>\n",
       "      <td>0.500000</td>\n",
       "      <td>1.000000</td>\n",
       "      <td>0.000000</td>\n",
       "      <td>0.666667</td>\n",
       "      <td>0.000000</td>\n",
       "    </tr>\n",
       "    <tr>\n",
       "      <td>1</td>\n",
       "      <td>0.674900</td>\n",
       "      <td>0.619705</td>\n",
       "      <td>0.734783</td>\n",
       "      <td>0.654286</td>\n",
       "      <td>0.995652</td>\n",
       "      <td>0.473913</td>\n",
       "      <td>0.789655</td>\n",
       "      <td>0.550419</td>\n",
       "    </tr>\n",
       "    <tr>\n",
       "      <td>2</td>\n",
       "      <td>0.532500</td>\n",
       "      <td>0.516585</td>\n",
       "      <td>0.797826</td>\n",
       "      <td>0.714734</td>\n",
       "      <td>0.991304</td>\n",
       "      <td>0.604348</td>\n",
       "      <td>0.830601</td>\n",
       "      <td>0.645975</td>\n",
       "    </tr>\n",
       "    <tr>\n",
       "      <td>3</td>\n",
       "      <td>0.452900</td>\n",
       "      <td>0.316589</td>\n",
       "      <td>0.889130</td>\n",
       "      <td>0.827839</td>\n",
       "      <td>0.982609</td>\n",
       "      <td>0.795652</td>\n",
       "      <td>0.898608</td>\n",
       "      <td>0.792229</td>\n",
       "    </tr>\n",
       "    <tr>\n",
       "      <td>4</td>\n",
       "      <td>0.262400</td>\n",
       "      <td>0.253711</td>\n",
       "      <td>0.917391</td>\n",
       "      <td>0.880952</td>\n",
       "      <td>0.965217</td>\n",
       "      <td>0.869565</td>\n",
       "      <td>0.921162</td>\n",
       "      <td>0.838628</td>\n",
       "    </tr>\n",
       "    <tr>\n",
       "      <td>6</td>\n",
       "      <td>0.141900</td>\n",
       "      <td>0.198045</td>\n",
       "      <td>0.932609</td>\n",
       "      <td>0.942222</td>\n",
       "      <td>0.921739</td>\n",
       "      <td>0.943478</td>\n",
       "      <td>0.931868</td>\n",
       "      <td>0.865422</td>\n",
       "    </tr>\n",
       "    <tr>\n",
       "      <td>7</td>\n",
       "      <td>0.091800</td>\n",
       "      <td>0.199934</td>\n",
       "      <td>0.928261</td>\n",
       "      <td>0.930131</td>\n",
       "      <td>0.926087</td>\n",
       "      <td>0.930435</td>\n",
       "      <td>0.928105</td>\n",
       "      <td>0.856530</td>\n",
       "    </tr>\n",
       "    <tr>\n",
       "      <td>8</td>\n",
       "      <td>0.059300</td>\n",
       "      <td>0.265530</td>\n",
       "      <td>0.910870</td>\n",
       "      <td>0.912664</td>\n",
       "      <td>0.908696</td>\n",
       "      <td>0.913043</td>\n",
       "      <td>0.910675</td>\n",
       "      <td>0.821747</td>\n",
       "    </tr>\n",
       "    <tr>\n",
       "      <td>9</td>\n",
       "      <td>0.070600</td>\n",
       "      <td>0.263668</td>\n",
       "      <td>0.910870</td>\n",
       "      <td>0.888889</td>\n",
       "      <td>0.939130</td>\n",
       "      <td>0.882609</td>\n",
       "      <td>0.913319</td>\n",
       "      <td>0.823055</td>\n",
       "    </tr>\n",
       "    <tr>\n",
       "      <td>10</td>\n",
       "      <td>0.043800</td>\n",
       "      <td>0.252682</td>\n",
       "      <td>0.921739</td>\n",
       "      <td>0.911017</td>\n",
       "      <td>0.934783</td>\n",
       "      <td>0.908696</td>\n",
       "      <td>0.922747</td>\n",
       "      <td>0.843765</td>\n",
       "    </tr>\n",
       "    <tr>\n",
       "      <td>12</td>\n",
       "      <td>0.022300</td>\n",
       "      <td>0.235268</td>\n",
       "      <td>0.928261</td>\n",
       "      <td>0.912134</td>\n",
       "      <td>0.947826</td>\n",
       "      <td>0.908696</td>\n",
       "      <td>0.929638</td>\n",
       "      <td>0.857178</td>\n",
       "    </tr>\n",
       "    <tr>\n",
       "      <td>13</td>\n",
       "      <td>0.017300</td>\n",
       "      <td>0.249053</td>\n",
       "      <td>0.926087</td>\n",
       "      <td>0.911765</td>\n",
       "      <td>0.943478</td>\n",
       "      <td>0.908696</td>\n",
       "      <td>0.927350</td>\n",
       "      <td>0.852690</td>\n",
       "    </tr>\n",
       "    <tr>\n",
       "      <td>14</td>\n",
       "      <td>0.019700</td>\n",
       "      <td>0.235910</td>\n",
       "      <td>0.932609</td>\n",
       "      <td>0.927039</td>\n",
       "      <td>0.939130</td>\n",
       "      <td>0.926087</td>\n",
       "      <td>0.933045</td>\n",
       "      <td>0.865291</td>\n",
       "    </tr>\n",
       "    <tr>\n",
       "      <td>15</td>\n",
       "      <td>0.009700</td>\n",
       "      <td>0.235503</td>\n",
       "      <td>0.932609</td>\n",
       "      <td>0.927039</td>\n",
       "      <td>0.939130</td>\n",
       "      <td>0.926087</td>\n",
       "      <td>0.933045</td>\n",
       "      <td>0.865291</td>\n",
       "    </tr>\n",
       "  </tbody>\n",
       "</table><p>"
      ],
      "text/plain": [
       "<IPython.core.display.HTML object>"
      ]
     },
     "metadata": {},
     "output_type": "display_data"
    },
    {
     "data": {
      "text/plain": [
       "TrainOutput(global_step=60, training_loss=0.2085016158098976, metrics={'train_runtime': 685.2429, 'train_samples_per_second': 53.704, 'train_steps_per_second': 0.088, 'total_flos': 5238472338432000.0, 'train_loss': 0.2085016158098976, 'epoch': 15.652173913043478})"
      ]
     },
     "execution_count": 8,
     "metadata": {},
     "output_type": "execute_result"
    }
   ],
   "source": [
    "training_args = TrainingArguments(\n",
    "    learning_rate=1e-4,\n",
    "    output_dir='../results',\n",
    "    num_train_epochs=20,\n",
    "    per_device_train_batch_size=8,\n",
    "    per_device_eval_batch_size=8,\n",
    "    warmup_steps=10,\n",
    "    weight_decay=0.01,\n",
    "    logging_dir='../logs',\n",
    "    logging_steps=2,\n",
    "    do_train=True,\n",
    "    do_eval=True,\n",
    "    evaluation_strategy=\"epoch\",\n",
    "    gradient_accumulation_steps=30,\n",
    "    fp16=True,\n",
    "    fp16_opt_level=\"02\",\n",
    "    run_name=\"ProBert-BFD-MS\",\n",
    "    seed=3407)\n",
    "\n",
    "trainer = Trainer(\n",
    "    model_init=model_init,\n",
    "    args=training_args,\n",
    "    train_dataset=train_dataset,\n",
    "    eval_dataset=test_dataset,\n",
    "    compute_metrics = compute_metrics)\n",
    "\n",
    "trainer.train()"
   ]
  },
  {
   "cell_type": "code",
   "execution_count": 9,
   "metadata": {},
   "outputs": [
    {
     "data": {
      "text/html": [],
      "text/plain": [
       "<IPython.core.display.HTML object>"
      ]
     },
     "metadata": {},
     "output_type": "display_data"
    },
    {
     "data": {
      "text/plain": [
       "{'eval_loss': 0.23550346493721008,\n",
       " 'eval_accuracy': 0.9326086956521739,\n",
       " 'eval_precision': 0.927038626609442,\n",
       " 'eval_recall': 0.9391304347826087,\n",
       " 'eval_specificity': 0.9260869565217391,\n",
       " 'eval_f1': 0.9330453563714903,\n",
       " 'eval_mcc': 0.865291001420344,\n",
       " 'eval_runtime': 4.6575,\n",
       " 'eval_samples_per_second': 98.766,\n",
       " 'eval_steps_per_second': 6.227,\n",
       " 'epoch': 15.652173913043478}"
      ]
     },
     "execution_count": 9,
     "metadata": {},
     "output_type": "execute_result"
    }
   ],
   "source": [
    "trainer.evaluate(test_dataset)"
   ]
  },
  {
   "cell_type": "code",
   "execution_count": 10,
   "metadata": {},
   "outputs": [],
   "source": [
    "trainer.save_model('../model/ProtBert_CPPSet1.pt')"
   ]
  },
  {
   "cell_type": "code",
   "execution_count": 11,
   "metadata": {},
   "outputs": [
    {
     "data": {
      "text/html": [],
      "text/plain": [
       "<IPython.core.display.HTML object>"
      ]
     },
     "metadata": {},
     "output_type": "display_data"
    }
   ],
   "source": [
    "result = trainer.predict(test_dataset).predictions\n",
    "golden = trainer.predict(test_dataset).label_ids\n",
    "result = torch.argmax(torch.tensor(result), -1)"
   ]
  },
  {
   "cell_type": "code",
   "execution_count": 12,
   "metadata": {},
   "outputs": [],
   "source": [
    "torch.save(result, '../model/CPPSet1_result1.pt')"
   ]
  },
  {
   "cell_type": "code",
   "execution_count": 13,
   "metadata": {},
   "outputs": [],
   "source": [
    "torch.save(golden, '../model/golden.pt')"
   ]
  },
  {
   "cell_type": "code",
   "execution_count": null,
   "metadata": {},
   "outputs": [],
   "source": []
  },
  {
   "cell_type": "code",
   "execution_count": null,
   "metadata": {},
   "outputs": [],
   "source": []
  }
 ],
 "metadata": {
  "kernelspec": {
   "display_name": "Python 3 (ipykernel)",
   "language": "python",
   "name": "python3"
  },
  "language_info": {
   "codemirror_mode": {
    "name": "ipython",
    "version": 3
   },
   "file_extension": ".py",
   "mimetype": "text/x-python",
   "name": "python",
   "nbconvert_exporter": "python",
   "pygments_lexer": "ipython3",
   "version": "3.8.19"
  }
 },
 "nbformat": 4,
 "nbformat_minor": 4
}
