{
 "cells": [
  {
   "cell_type": "code",
   "execution_count": 1,
   "metadata": {},
   "outputs": [],
   "source": [
    "from sklearn.metrics import accuracy_score, precision_recall_fscore_support, matthews_corrcoef\n",
    "import re\n",
    "import warnings\n",
    "from sklearn.metrics import confusion_matrix"
   ]
  },
  {
   "cell_type": "code",
   "execution_count": 2,
   "metadata": {},
   "outputs": [],
   "source": [
    "def calc(TN, FP, FN, TP):\n",
    "    SN = TP / (TP + FN)  # recall\n",
    "    SP = TN / (TN + FP)\n",
    "    PR = TP / (TP + FP)\n",
    "    ACC = (TP + TN) / (TP + TN + FN + FP)\n",
    "    F1 = (2 * TP) / (2 * TP + FP + FN)\n",
    "    fz = TP * TN - FP * FN\n",
    "    fm = (TP + FN) * (TP + FP) * (TN + FP) * (TN + FN)\n",
    "    MCC = fz / pow(fm, 0.5)\n",
    "    return ACC, PR, SN, SP, F1, MCC"
   ]
  },
  {
   "cell_type": "code",
   "execution_count": 3,
   "metadata": {},
   "outputs": [],
   "source": [
    "def compute_metrics(pred, gold):\n",
    "    precision, recall, f1, _ = precision_recall_fscore_support(gold, pred, average='binary')\n",
    "    tn, fp, fn, tp = confusion_matrix(gold, pred).ravel()\n",
    "    acc, pr, sn, sp, f1, mcc = calc(tn, fp, fn, tp)\n",
    "    acc = accuracy_score(gold, pred)\n",
    "    return {\n",
    "        'accuracy': acc,  \n",
    "        'precision': pr,\n",
    "        'sensitivity':sn,\n",
    "        'specificity':sp,\n",
    "        'F1-score': f1,\n",
    "        'mcc' : matthews_corrcoef(gold, pred)\n",
    "    }"
   ]
  },
  {
   "cell_type": "code",
   "execution_count": 4,
   "metadata": {},
   "outputs": [
    {
     "name": "stderr",
     "output_type": "stream",
     "text": [
      "/tmp/ipykernel_586107/2057818300.py:2: FutureWarning: You are using `torch.load` with `weights_only=False` (the current default value), which uses the default pickle module implicitly. It is possible to construct malicious pickle data which will execute arbitrary code during unpickling (See https://github.com/pytorch/pytorch/blob/main/SECURITY.md#untrusted-models for more details). In a future release, the default value for `weights_only` will be flipped to `True`. This limits the functions that could be executed during unpickling. Arbitrary objects will no longer be allowed to be loaded via this mode unless they are explicitly allowlisted by the user via `torch.serialization.add_safe_globals`. We recommend you start setting `weights_only=True` for any use case where you don't have full control of the loaded file. Please open an issue on GitHub for any issues related to this experimental feature.\n",
      "  r1 = torch.load('../model/CPPSet1_result1.pt')\n",
      "/tmp/ipykernel_586107/2057818300.py:3: FutureWarning: You are using `torch.load` with `weights_only=False` (the current default value), which uses the default pickle module implicitly. It is possible to construct malicious pickle data which will execute arbitrary code during unpickling (See https://github.com/pytorch/pytorch/blob/main/SECURITY.md#untrusted-models for more details). In a future release, the default value for `weights_only` will be flipped to `True`. This limits the functions that could be executed during unpickling. Arbitrary objects will no longer be allowed to be loaded via this mode unless they are explicitly allowlisted by the user via `torch.serialization.add_safe_globals`. We recommend you start setting `weights_only=True` for any use case where you don't have full control of the loaded file. Please open an issue on GitHub for any issues related to this experimental feature.\n",
      "  r2 = torch.load('../model/CPPSet1_result2.pt')\n",
      "/tmp/ipykernel_586107/2057818300.py:4: FutureWarning: You are using `torch.load` with `weights_only=False` (the current default value), which uses the default pickle module implicitly. It is possible to construct malicious pickle data which will execute arbitrary code during unpickling (See https://github.com/pytorch/pytorch/blob/main/SECURITY.md#untrusted-models for more details). In a future release, the default value for `weights_only` will be flipped to `True`. This limits the functions that could be executed during unpickling. Arbitrary objects will no longer be allowed to be loaded via this mode unless they are explicitly allowlisted by the user via `torch.serialization.add_safe_globals`. We recommend you start setting `weights_only=True` for any use case where you don't have full control of the loaded file. Please open an issue on GitHub for any issues related to this experimental feature.\n",
      "  r3 = torch.load('../model/CPPSet1_result3.pt')\n",
      "/tmp/ipykernel_586107/2057818300.py:5: FutureWarning: You are using `torch.load` with `weights_only=False` (the current default value), which uses the default pickle module implicitly. It is possible to construct malicious pickle data which will execute arbitrary code during unpickling (See https://github.com/pytorch/pytorch/blob/main/SECURITY.md#untrusted-models for more details). In a future release, the default value for `weights_only` will be flipped to `True`. This limits the functions that could be executed during unpickling. Arbitrary objects will no longer be allowed to be loaded via this mode unless they are explicitly allowlisted by the user via `torch.serialization.add_safe_globals`. We recommend you start setting `weights_only=True` for any use case where you don't have full control of the loaded file. Please open an issue on GitHub for any issues related to this experimental feature.\n",
      "  g = torch.load('../model/golden.pt')\n"
     ]
    }
   ],
   "source": [
    "import torch\n",
    "r1 = torch.load('../model/CPPSet1_result1.pt')\n",
    "r2 = torch.load('../model/CPPSet1_result2.pt')\n",
    "r3 = torch.load('../model/CPPSet1_result3.pt')\n",
    "g = torch.load('../model/golden.pt')"
   ]
  },
  {
   "cell_type": "code",
   "execution_count": 5,
   "metadata": {},
   "outputs": [
    {
     "data": {
      "text/plain": [
       "{'accuracy': 0.9326086956521739,\n",
       " 'precision': 0.927038626609442,\n",
       " 'sensitivity': 0.9391304347826087,\n",
       " 'specificity': 0.9260869565217391,\n",
       " 'F1-score': 0.9330453563714903,\n",
       " 'mcc': 0.865291001420344}"
      ]
     },
     "execution_count": 5,
     "metadata": {},
     "output_type": "execute_result"
    }
   ],
   "source": [
    "compute_metrics(r1, g)"
   ]
  },
  {
   "cell_type": "code",
   "execution_count": 6,
   "metadata": {},
   "outputs": [
    {
     "data": {
      "text/plain": [
       "{'accuracy': 0.9173913043478261,\n",
       " 'precision': 0.9285714285714286,\n",
       " 'sensitivity': 0.9043478260869565,\n",
       " 'specificity': 0.9304347826086956,\n",
       " 'F1-score': 0.9162995594713657,\n",
       " 'mcc': 0.8350668007670652}"
      ]
     },
     "execution_count": 6,
     "metadata": {},
     "output_type": "execute_result"
    }
   ],
   "source": [
    "compute_metrics(r2, g)"
   ]
  },
  {
   "cell_type": "code",
   "execution_count": 7,
   "metadata": {},
   "outputs": [
    {
     "data": {
      "text/plain": [
       "{'accuracy': 0.941304347826087,\n",
       " 'precision': 0.9246861924686193,\n",
       " 'sensitivity': 0.9608695652173913,\n",
       " 'specificity': 0.9217391304347826,\n",
       " 'F1-score': 0.9424307036247335,\n",
       " 'mcc': 0.8832851938504245}"
      ]
     },
     "execution_count": 7,
     "metadata": {},
     "output_type": "execute_result"
    }
   ],
   "source": [
    "compute_metrics(r3, g)"
   ]
  },
  {
   "cell_type": "code",
   "execution_count": 8,
   "metadata": {},
   "outputs": [],
   "source": [
    "final_result = [max(set([r1[i],r2[i],r3[i]]), key=[r1[i],r2[i],r3[i]].count) for i in range(len(g))]"
   ]
  },
  {
   "cell_type": "code",
   "execution_count": 9,
   "metadata": {},
   "outputs": [
    {
     "data": {
      "text/plain": [
       "{'accuracy': 0.941304347826087,\n",
       " 'precision': 0.9356223175965666,\n",
       " 'sensitivity': 0.9478260869565217,\n",
       " 'specificity': 0.9347826086956522,\n",
       " 'F1-score': 0.9416846652267818,\n",
       " 'mcc': 0.8826837853684917}"
      ]
     },
     "execution_count": 9,
     "metadata": {},
     "output_type": "execute_result"
    }
   ],
   "source": [
    "compute_metrics(final_result, g)"
   ]
  },
  {
   "cell_type": "code",
   "execution_count": 10,
   "metadata": {},
   "outputs": [
    {
     "data": {
      "text/plain": [
       "230"
      ]
     },
     "execution_count": 10,
     "metadata": {},
     "output_type": "execute_result"
    }
   ],
   "source": [
    "import numpy as np\n",
    "np.sum(g == 0)"
   ]
  },
  {
   "cell_type": "code",
   "execution_count": 11,
   "metadata": {},
   "outputs": [
    {
     "data": {
      "text/plain": [
       "{'accuracy': 0.941304347826087,\n",
       " 'precision': 0.9356223175965666,\n",
       " 'sensitivity': 0.9478260869565217,\n",
       " 'specificity': 0.9347826086956522,\n",
       " 'F1-score': 0.9416846652267818,\n",
       " 'mcc': 0.8826837853684917}"
      ]
     },
     "execution_count": 11,
     "metadata": {},
     "output_type": "execute_result"
    }
   ],
   "source": [
    "# Voting\n",
    "final_result1 = [max(set([r1[i],r2[i],r3[i]]), key=[r1[i],r2[i],r3[i]].count) for i in range(len(g))]\n",
    "compute_metrics(final_result1, g)"
   ]
  },
  {
   "cell_type": "code",
   "execution_count": 12,
   "metadata": {},
   "outputs": [],
   "source": [
    "#final_result2 = [1 if r1[i] ==1 and r3[i] == 1 else 0 for i in range(len(g))]\n",
    "#compute_metrics(final_result2, g)"
   ]
  },
  {
   "cell_type": "code",
   "execution_count": 13,
   "metadata": {},
   "outputs": [],
   "source": [
    "#final_result3 = [1 if r1[i] ==1 and r2[i] == 1 and r3[i] == 1 else 0 for i in range(len(g))]\n",
    "#compute_metrics(final_result3, g)"
   ]
  },
  {
   "cell_type": "code",
   "execution_count": null,
   "metadata": {},
   "outputs": [],
   "source": []
  },
  {
   "cell_type": "code",
   "execution_count": null,
   "metadata": {},
   "outputs": [],
   "source": []
  }
 ],
 "metadata": {
  "kernelspec": {
   "display_name": "Python 3 (ipykernel)",
   "language": "python",
   "name": "python3"
  },
  "language_info": {
   "codemirror_mode": {
    "name": "ipython",
    "version": 3
   },
   "file_extension": ".py",
   "mimetype": "text/x-python",
   "name": "python",
   "nbconvert_exporter": "python",
   "pygments_lexer": "ipython3",
   "version": "3.8.19"
  }
 },
 "nbformat": 4,
 "nbformat_minor": 4
}
